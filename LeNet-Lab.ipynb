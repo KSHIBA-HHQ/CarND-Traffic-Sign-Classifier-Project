{
 "cells": [
  {
   "cell_type": "markdown",
   "metadata": {},
   "source": [
    "# LeNet Lab Solution\n",
    "![LeNet Architecture](lenet.png)\n",
    "Source: Yan LeCun"
   ]
  },
  {
   "cell_type": "markdown",
   "metadata": {},
   "source": [
    "## Load Data\n",
    "\n",
    "Load the MNIST data, which comes pre-loaded with TensorFlow.\n",
    "\n",
    "You do not need to modify this section."
   ]
  },
  {
   "cell_type": "code",
   "execution_count": 1,
   "metadata": {},
   "outputs": [
    {
     "name": "stderr",
     "output_type": "stream",
     "text": [
      "/home/kshiba/conda/envs/IntroToTensorFlow/lib/python3.6/importlib/_bootstrap.py:219: RuntimeWarning: compiletime version 3.5 of module 'tensorflow.python.framework.fast_tensor_util' does not match runtime version 3.6\n",
      "  return f(*args, **kwds)\n"
     ]
    },
    {
     "name": "stdout",
     "output_type": "stream",
     "text": [
      "Extracting MNIST_data/train-images-idx3-ubyte.gz\n",
      "Extracting MNIST_data/train-labels-idx1-ubyte.gz\n",
      "Extracting MNIST_data/t10k-images-idx3-ubyte.gz\n",
      "Extracting MNIST_data/t10k-labels-idx1-ubyte.gz\n"
     ]
    }
   ],
   "source": [
    "from tensorflow.examples.tutorials.mnist import input_data\n",
    "\n",
    "mnist = input_data.read_data_sets(\"MNIST_data/\", reshape=False)"
   ]
  },
  {
   "cell_type": "code",
   "execution_count": 2,
   "metadata": {},
   "outputs": [
    {
     "name": "stdout",
     "output_type": "stream",
     "text": [
      "\n",
      "Image Shape: (28, 28, 1)\n",
      "\n",
      "Training Set:   55000 samples\n",
      "Validation Set: 5000 samples\n",
      "Test Set:       10000 samples\n"
     ]
    }
   ],
   "source": [
    "\n",
    "X_train, y_train           = mnist.train.images, mnist.train.labels\n",
    "X_validation, y_validation = mnist.validation.images, mnist.validation.labels\n",
    "X_test, y_test             = mnist.test.images, mnist.test.labels\n",
    "\n",
    "assert(len(X_train) == len(y_train))\n",
    "assert(len(X_validation) == len(y_validation))\n",
    "assert(len(X_test) == len(y_test))\n",
    "\n",
    "\n",
    "print()\n",
    "print(\"Image Shape: {}\".format(X_train[0].shape))\n",
    "print()\n",
    "print(\"Training Set:   {} samples\".format(len(X_train)))\n",
    "print(\"Validation Set: {} samples\".format(len(X_validation)))\n",
    "print(\"Test Set:       {} samples\".format(len(X_test)))"
   ]
  },
  {
   "cell_type": "markdown",
   "metadata": {},
   "source": [
    "The MNIST data that TensorFlow pre-loads comes as 28x28x1 images.\n",
    "\n",
    "However, the LeNet architecture only accepts 32x32xC images, where C is the number of color channels.\n",
    "\n",
    "In order to reformat the MNIST data into a shape that LeNet will accept, we pad the data with two rows of zeros on the top and bottom, and two columns of zeros on the left and right (28+2+2 = 32).\n",
    "\n",
    "You do not need to modify this section."
   ]
  },
  {
   "cell_type": "code",
   "execution_count": 3,
   "metadata": {
    "scrolled": true
   },
   "outputs": [
    {
     "name": "stdout",
     "output_type": "stream",
     "text": [
      "y_train[N] 6\n",
      "X_train (55000, 28, 28, 1) <class 'tuple'> <class 'numpy.ndarray'> (28, 28, 1)\n",
      "y_train (55000,) <class 'tuple'> <class 'numpy.uint8'> ()\n",
      "squeeze (28, 28) <class 'numpy.ndarray'> (28, 28)\n",
      "X_validation (5000, 28, 28, 1)\n",
      "y_validation (5000,)\n",
      "X_test (10000, 28, 28, 1)\n",
      "y_test (10000,)\n"
     ]
    },
    {
     "data": {
      "image/png": "[encoded data removed]",
      "text/plain": [
       "<matplotlib.figure.Figure at 0x7ff33a108cc0>"
      ]
     },
     "metadata": {},
     "output_type": "display_data"
    },
    {
     "data": {
      "image/png": "[encoded data removed]",
      "text/plain": [
       "<matplotlib.figure.Figure at 0x7ff3384805c0>"
      ]
     },
     "metadata": {},
     "output_type": "display_data"
    },
    {
     "data": {
      "image/png": "[encoded data removed]",
      "text/plain": [
       "<matplotlib.figure.Figure at 0x7ff3360b7080>"
      ]
     },
     "metadata": {},
     "output_type": "display_data"
    }
   ],
   "source": [
    "import matplotlib.pyplot as plt\n",
    "%matplotlib inline\n",
    "\n",
    "N=1000\n",
    "\n",
    "im=X_train[N].squeeze()\n",
    "\n",
    "plt.figure(figsize=(3,3))\n",
    "plt.imshow(im, cmap=\"gray\")\n",
    "\n",
    "plt.figure(figsize=(3,3))\n",
    "plt.imshow(im)\n",
    "\n",
    "plt.figure(figsize=(3,3))\n",
    "plt.imshow(X_train[N].squeeze(), cmap=\"gray\")\n",
    "\n",
    "print('y_train[N]',y_train[N])\n",
    "\n",
    "print('X_train',X_train.shape,type(X_train.shape),type(X_train[N]),X_train[N].shape)\n",
    "print('y_train',y_train.shape,type(y_train.shape),type(y_train[N]),y_train[N].shape)\n",
    "print('squeeze',im.shape,type(im),im.shape)\n",
    "\n",
    "print('X_validation',X_validation.shape)\n",
    "print('y_validation',y_validation.shape)\n",
    "print('X_test',X_test.shape)\n",
    "print('y_test',y_test.shape)"
   ]
  },
  {
   "cell_type": "code",
   "execution_count": 4,
   "metadata": {},
   "outputs": [
    {
     "name": "stdout",
     "output_type": "stream",
     "text": [
      "(28, 28, 1)\n",
      "(28, 28, 1)\n"
     ]
    },
    {
     "data": {
      "text/plain": [
       "<matplotlib.image.AxesImage at 0x7ff335f272e8>"
      ]
     },
     "execution_count": 4,
     "metadata": {},
     "output_type": "execute_result"
    },
    {
     "data": {
      "image/png": "[encoded data removed]",
      "text/plain": [
       "<matplotlib.figure.Figure at 0x7ff33a1085f8>"
      ]
     },
     "metadata": {},
     "output_type": "display_data"
    },
    {
     "data": {
      "image/png": "[encoded data removed]",
      "text/plain": [
       "<matplotlib.figure.Figure at 0x7ff335f66940>"
      ]
     },
     "metadata": {},
     "output_type": "display_data"
    }
   ],
   "source": [
    "print(X_train[N].shape)\n",
    "\n",
    "im=X_train[N].squeeze()\n",
    "plt.figure()\n",
    "plt.imshow(im)\n",
    "\n",
    "\n",
    "print(X_validation[N].shape)\n",
    "\n",
    "im=X_validation[N].squeeze()\n",
    "plt.figure()\n",
    "plt.imshow(im)"
   ]
  },
  {
   "cell_type": "code",
   "execution_count": 5,
   "metadata": {},
   "outputs": [
    {
     "name": "stdout",
     "output_type": "stream",
     "text": [
      "Updated Image Shape: (32, 32, 1)\n",
      "X_train (55000, 32, 32, 1)\n",
      "X_validation (5000, 32, 32, 1)\n",
      "X_test (10000, 32, 32, 1)\n"
     ]
    }
   ],
   "source": [
    "import numpy as np\n",
    "#　パディングにより入力データを32x32に修正する （重要）\n",
    "\n",
    "# Pad images with 0s\n",
    "X_train      = np.pad(X_train, ((0,0),(2,2),(2,2),(0,0)), 'constant')\n",
    "X_validation = np.pad(X_validation, ((0,0),(2,2),(2,2),(0,0)), 'constant')\n",
    "X_test       = np.pad(X_test, ((0,0),(2,2),(2,2),(0,0)), 'constant')\n",
    "    \n",
    "print(\"Updated Image Shape: {}\".format(X_train[0].shape))\n",
    "print('X_train',X_train .shape)\n",
    "print('X_validation',X_validation .shape)\n",
    "print('X_test',X_test .shape)"
   ]
  },
  {
   "cell_type": "markdown",
   "metadata": {},
   "source": [
    "## Visualize Data\n",
    "\n",
    "View a sample from the dataset.\n",
    "\n",
    "You do not need to modify this section."
   ]
  },
  {
   "cell_type": "code",
   "execution_count": 6,
   "metadata": {},
   "outputs": [
    {
     "name": "stdout",
     "output_type": "stream",
     "text": [
      "9\n"
     ]
    },
    {
     "data": {
      "image/png": "[encoded data removed]",
      "text/plain": [
       "<matplotlib.figure.Figure at 0x7ff335f6fd30>"
      ]
     },
     "metadata": {},
     "output_type": "display_data"
    },
    {
     "data": {
      "image/png": "[encoded data removed]",
      "text/plain": [
       "<matplotlib.figure.Figure at 0x7ff335f4ba58>"
      ]
     },
     "metadata": {},
     "output_type": "display_data"
    }
   ],
   "source": [
    "import random\n",
    "import numpy as np\n",
    "import matplotlib.pyplot as plt\n",
    "%matplotlib inline\n",
    "\n",
    "index = random.randint(0, len(X_train))\n",
    "image = X_train[index].squeeze()\n",
    "\n",
    "plt.figure(figsize=(1,1))\n",
    "plt.imshow(image, cmap=\"gray\")\n",
    "\n",
    "plt.figure(figsize=(1,1))\n",
    "plt.imshow(image)\n",
    "\n",
    "print(y_train[index])"
   ]
  },
  {
   "cell_type": "markdown",
   "metadata": {},
   "source": [
    "## Preprocess Data\n",
    "\n",
    "Shuffle the training data.\n",
    "\n",
    "You do not need to modify this section."
   ]
  },
  {
   "cell_type": "code",
   "execution_count": 7,
   "metadata": {
    "collapsed": true
   },
   "outputs": [],
   "source": [
    "from sklearn.utils import shuffle\n",
    "\n",
    "X_train, y_train = shuffle(X_train, y_train)"
   ]
  },
  {
   "cell_type": "markdown",
   "metadata": {},
   "source": [
    "## Setup TensorFlow\n",
    "The `EPOCH` and `BATCH_SIZE` values affect the training speed and model accuracy.\n",
    "\n",
    "You do not need to modify this section."
   ]
  },
  {
   "cell_type": "code",
   "execution_count": 8,
   "metadata": {
    "collapsed": true
   },
   "outputs": [],
   "source": [
    "import tensorflow as tf\n",
    "\n",
    "EPOCHS = 10\n",
    "BATCH_SIZE = 128"
   ]
  },
  {
   "cell_type": "markdown",
   "metadata": {},
   "source": [
    "## SOLUTION: Implement LeNet-5\n",
    "Implement the [LeNet-5](http://yann.lecun.com/exdb/lenet/) neural network architecture.\n",
    "\n",
    "This is the only cell you need to edit.\n",
    "### Input\n",
    "The LeNet architecture accepts a 32x32xC image as input, where C is the number of color channels. Since MNIST images are grayscale, C is 1 in this case.\n",
    "\n",
    "### Architecture\n",
    "**Layer 1: Convolutional.** The output shape should be 28x28x6.\n",
    "\n",
    "**Activation.** Your choice of activation function.\n",
    "\n",
    "**Pooling.** The output shape should be 14x14x6.\n",
    "\n",
    "**Layer 2: Convolutional.** The output shape should be 10x10x16.\n",
    "\n",
    "**Activation.** Your choice of activation function.\n",
    "\n",
    "**Pooling.** The output shape should be 5x5x16.\n",
    "\n",
    "**Flatten.** Flatten the output shape of the final pooling layer such that it's 1D instead of 3D. The easiest way to do is by using `tf.contrib.layers.flatten`, which is already imported for you.\n",
    "\n",
    "**Layer 3: Fully Connected.** This should have 120 outputs.\n",
    "\n",
    "**Activation.** Your choice of activation function.\n",
    "\n",
    "**Layer 4: Fully Connected.** This should have 84 outputs.\n",
    "\n",
    "**Activation.** Your choice of activation function.\n",
    "\n",
    "**Layer 5: Fully Connected (Logits).** This should have 10 outputs.\n",
    "\n",
    "### Output\n",
    "Return the result of the 2nd fully connected layer."
   ]
  },
  {
   "cell_type": "code",
   "execution_count": 9,
   "metadata": {
    "collapsed": true
   },
   "outputs": [],
   "source": [
    "from tensorflow.contrib.layers import flatten\n",
    "#①ネットワークを構築する\n",
    "def LeNet(x):    \n",
    "    # Arguments used for tf.truncated_normal, randomly defines variables for the weights and biases for each layer\n",
    "    mu = 0\n",
    "    sigma = 0.1\n",
    "    \n",
    "    # SOLUTION: Layer 1: Convolutional. Input = 32x32x1. Output = 28x28x6. \n",
    "    # 5x5のフィルタを適用すると幅高さ32x32→幅高さ28x28となる\n",
    "    # 加えて入力深度が１，出力深度が6なので　shape=(5, 5, 1, 6)を適用する\n",
    "    conv1_W = tf.Variable(tf.truncated_normal(shape=(5, 5, 1, 6), mean = mu, stddev = sigma))  \n",
    "    #出力深度が6なのでバイアスも６セット用意\n",
    "    conv1_b = tf.Variable(tf.zeros(6))\n",
    "    conv1   = tf.nn.conv2d(x, conv1_W, strides=[1, 1, 1, 1], padding='VALID') + conv1_b\n",
    "\n",
    "    # SOLUTION: Activation.\n",
    "    #出力結果にreluを適用する\n",
    "    conv1 = tf.nn.relu(conv1)\n",
    "\n",
    "    # SOLUTION: Pooling. Input = 28x28x6. Output = 14x14x6.\n",
    "    #　maxプーリングを使ってサイズを縮小する\n",
    "    #　入力が[index,幅,高さ,深度]なので第0th,3thは１　1th,2thにカーネルとストライドサイズを設定\n",
    "    #　ksize=[1, w, h, 1]　strides=[1, hstride, vstride, 1]\n",
    "    conv1 = tf.nn.max_pool(conv1, ksize=[1, 2, 2, 1], strides=[1, 2, 2, 1], padding='VALID')\n",
    "\n",
    "    # SOLUTION: Layer 2: Convolutional. Input = 14x14x6.　Output = 10x10x16.\n",
    "    #　フィルタサイズが5x5　入力深度が6　出力深度が16\n",
    "    conv2_W = tf.Variable(tf.truncated_normal(shape=(5, 5, 6, 16), mean = mu, stddev = sigma))\n",
    "    conv2_b = tf.Variable(tf.zeros(16))\n",
    "    conv2   = tf.nn.conv2d(conv1, conv2_W, strides=[1, 1, 1, 1], padding='VALID') + conv2_b\n",
    "    \n",
    "    # SOLUTION: Activation.\n",
    "    conv2 = tf.nn.relu(conv2)\n",
    "\n",
    "    # SOLUTION: Pooling. Input = 10x10x16. Output = 5x5x16.\n",
    "    conv2 = tf.nn.max_pool(conv2, ksize=[1, 2, 2, 1], strides=[1, 2, 2, 1], padding='VALID')\n",
    "\n",
    "    # SOLUTION: Flatten. Input = 5x5x16. Output = 400.\n",
    "    #　5ｘ5ｘ16＝400　1次元に変換\n",
    "    fc0   = flatten(conv2)\n",
    "    \n",
    "    # SOLUTION: Layer 3: Fully Connected. Input = 400. Output = 120.\n",
    "    fc1_W = tf.Variable(tf.truncated_normal(shape=(400, 120), mean = mu, stddev = sigma))\n",
    "    fc1_b = tf.Variable(tf.zeros(120))\n",
    "    fc1   = tf.matmul(fc0, fc1_W) + fc1_b\n",
    "    \n",
    "    # SOLUTION: Activation.\n",
    "    fc1    = tf.nn.relu(fc1)\n",
    "\n",
    "    # SOLUTION: Layer 4: Fully Connected. Input = 120. Output = 84.\n",
    "    fc2_W  = tf.Variable(tf.truncated_normal(shape=(120, 84), mean = mu, stddev = sigma))\n",
    "    fc2_b  = tf.Variable(tf.zeros(84))\n",
    "    fc2    = tf.matmul(fc1, fc2_W) + fc2_b\n",
    "    \n",
    "    # SOLUTION: Activation.\n",
    "    fc2    = tf.nn.relu(fc2)\n",
    "\n",
    "    # SOLUTION: Layer 5: Fully Connected. Input = 84. Output = 10.\n",
    "    #　tf.Variable(tf.Sessionのための準備)を実行\n",
    "    fc3_W  = tf.Variable(tf.truncated_normal(shape=(84, 10), mean = mu, stddev = sigma))\n",
    "    fc3_b  = tf.Variable(tf.zeros(10))\n",
    "    logits = tf.matmul(fc2, fc3_W) + fc3_b\n",
    "    \n",
    "    return logits"
   ]
  },
  {
   "cell_type": "markdown",
   "metadata": {},
   "source": [
    "## Features and Labels\n",
    "Train LeNet to classify [MNIST](http://yann.lecun.com/exdb/mnist/) data.\n",
    "\n",
    "`x` is a placeholder for a batch of input images.\n",
    "`y` is a placeholder for a batch of output labels.\n",
    "\n",
    "You do not need to modify this section."
   ]
  },
  {
   "cell_type": "code",
   "execution_count": 10,
   "metadata": {
    "collapsed": true
   },
   "outputs": [],
   "source": [
    "#ひな形を用意する\n",
    "\n",
    "#　32ｘ32ｘ1の画像を用意（index=None :大きさを指定しない）\n",
    "x = tf.placeholder(tf.float32, (None, 32, 32, 1))\n",
    "y = tf.placeholder(tf.int32, (None))\n",
    "\n",
    "\n",
    "#y(int32型ラベルデータ)を10パターン分　one_hotデータ(結果)として用意\n",
    "one_hot_y = tf.one_hot(y, 10)"
   ]
  },
  {
   "cell_type": "markdown",
   "metadata": {},
   "source": [
    "## Training Pipeline\n",
    "Create a training pipeline that uses the model to classify MNIST data.\n",
    "\n",
    "You do not need to modify this section."
   ]
  },
  {
   "cell_type": "code",
   "execution_count": 11,
   "metadata": {
    "collapsed": true
   },
   "outputs": [],
   "source": [
    "#トレーニング内容を定義する\n",
    "\n",
    "rate = 0.001\n",
    "#用意したLeNet関数に入力x（32x32x1型画像を適用）\n",
    "# ※※※ xはplaceholderで定義　且つ　section内の「辞書」で入力実行※※\n",
    "logits = LeNet(x)\n",
    "#結果をソフトマックス・クロスエントロピーに適用\n",
    "########## \n",
    "#等価処理は　　　　　　　 y = tf.nn.softmax(tf.matmul(x,W) + b)\n",
    "##########  cross_entropy = -tf.reduce_sum(y_*tf.log(y))\n",
    "\n",
    "# ※※※ ｙone_hot_yはplaceholderで定義したyより生成　且つ　section内の「辞書」で入力実行※※\n",
    "cross_entropy = tf.nn.softmax_cross_entropy_with_logits(labels=one_hot_y, logits=logits)\n",
    "\n",
    "#総和平均で得点を計算\n",
    "loss_operation = tf.reduce_mean(cross_entropy)\n",
    "\n",
    "#Adam法による最急降下を選択　\n",
    "optimizer = tf.train.AdamOptimizer(learning_rate = rate)\n",
    "#他最急降下法の適用例：　optimizer = tf.train.GradientDescentOptimizer(0.01).minimize(cross_entropy)\n",
    "\n",
    "#Adam法で評価\n",
    "training_operation = optimizer.minimize(loss_operation)\n",
    "\n",
    "#　「training_operation」が　本プロジェクトの骨子・核である「モデル生成および鍛錬」の為の処理である\n",
    "#　　最急降下法に与える学習レートを調整しながら、とにかくtraining_operationを繰り返すほどモデル精度が向上する\n",
    "#　　（ただし、過学習には注意　)\n",
    "\n"
   ]
  },
  {
   "cell_type": "markdown",
   "metadata": {},
   "source": [
    "## Model Evaluation\n",
    "Evaluate how well the loss and accuracy of the model for a given dataset.\n",
    "\n",
    "You do not need to modify this section."
   ]
  },
  {
   "cell_type": "code",
   "execution_count": 12,
   "metadata": {
    "collapsed": true
   },
   "outputs": [],
   "source": [
    "import tensorflow as tf\n",
    "\n",
    "#スコア評価方法を定義する\n",
    "\n",
    "#tf.argmaxの引数\n",
    "#tf.argmax（A,B)　　Aが真のデータ、Bが評価されるデータ\n",
    "#行列についてはdimensionに0を指定すると、行成分についての最大値をもつ要素（列成分）の添字を返却します。\n",
    "#一方dimensionに1を指定すると、列成分についての最小値を持つ要素（行成分）の添字を返却します。\n",
    "\n",
    "#tf.equal：ベクトルが一致しているか否か　True or False　（LeNet結果とOne_Hot値）\n",
    "correct_prediction = tf.equal(tf.argmax(logits, 1), tf.argmax(one_hot_y, 1))\n",
    "#総和平均で得点を計算 →　logitsとone_hotの件数分（例：55000件)のTRUE,FALSEが戻る　全部Trueならtf.reduce_meanは100％一致と出力する\n",
    "accuracy_operation = tf.reduce_mean(tf.cast(correct_prediction, tf.float32))\n",
    "\n",
    "\n",
    "tf_argmax=[[tf.argmax(logits, 1)] , [tf.argmax(one_hot_y, 1)]]\n",
    "\n",
    "####################################################\n",
    "flg= tf.cast(correct_prediction, tf.int32)\n",
    "accuracy_operation_custom=    tf.cast(pow(-1,flg+1) ,tf.int32) *   tf.cast(tf.argmax(logits, 1) ,tf.int32) \n",
    "#######################################################\n",
    "\n",
    "#accuracy_operation_custom = correct_prediction\n",
    "\n",
    "\n",
    "#Tensorflowの学習パラーメータのsave, restoreにはtf.train.Saverを使用\n",
    "#　　→　tf.train.Saver()の引数を指定しない場合は全ての変数が保存\n",
    "saver = tf.train.Saver()\n",
    "\n",
    "def evaluate(X_data, y_data):\n",
    "    num_examples = len(X_data)\n",
    "    total_accuracy = 0\n",
    "    \n",
    "    #変数の初期化　global_variables_initializer\n",
    "    #セッション中身を元の状態に戻す（再リセット）\n",
    "    sess = tf.get_default_session()\n",
    "    \n",
    "    for offset in range(0, num_examples, BATCH_SIZE):\n",
    "        batch_x, batch_y = X_data[offset:offset+BATCH_SIZE], y_data[offset:offset+BATCH_SIZE]\n",
    "        accuracy = sess.run(accuracy_operation, feed_dict={x: batch_x, y: batch_y})\n",
    "        total_accuracy += (accuracy * len(batch_x))\n",
    "    return total_accuracy / num_examples\n",
    "\n",
    "##############以降　追加のカスタムファンクション################################################\n",
    "def evaluatecustom(X_data, y_data):\n",
    "    sess = tf.get_default_session()\n",
    "    return  sess.run(accuracy_operation_custom  , feed_dict={x:X_data, y:y_data})\n",
    "\n",
    "def show_debug(X_data, y_data):\n",
    "    \n",
    "    sess = tf.get_default_session()\n",
    "    print(sess.run(cross_entropy  , feed_dict={x:X_data, y:y_data}) )\n",
    "    \n",
    "    sess = tf.get_default_session()\n",
    "    z_one_hot=sess.run(one_hot_y  , feed_dict={x:X_data, y:y_data}) \n",
    "    print('one_hot_y',z_one_hot,np.max(z_one_hot))\n",
    "    \n",
    "    sess = tf.get_default_session()\n",
    "    zlogits=sess.run(logits  , feed_dict={x:X_data, y:y_data})\n",
    "    print('logits',zlogits,np.max(zlogits) )\n",
    "    \n",
    "    sess = tf.get_default_session()\n",
    "    zargmax=sess.run(tf_argmax  , feed_dict={x:X_data, y:y_data}) \n",
    "    print(zargmax)\n",
    "    print('tf_argmax:logits',zargmax[0])\n",
    "    print('tf_argmax:one_hot',zargmax[1])\n",
    "    \n",
    "    sess = tf.get_default_session()\n",
    "    z_prediction=sess.run(correct_prediction  , feed_dict={x:X_data, y:y_data}) \n",
    "    print('correct_prediction',z_prediction)\n",
    "    return\n",
    "\n"
   ]
  },
  {
   "cell_type": "markdown",
   "metadata": {},
   "source": [
    "## Train the Model\n",
    "Run the training data through the training pipeline to train the model.\n",
    "\n",
    "Before each epoch, shuffle the training set.\n",
    "\n",
    "After each epoch, measure the loss and accuracy of the validation set.\n",
    "\n",
    "Save the model after training.\n",
    "\n",
    "You do not need to modify this section."
   ]
  },
  {
   "cell_type": "code",
   "execution_count": 14,
   "metadata": {},
   "outputs": [
    {
     "name": "stdout",
     "output_type": "stream",
     "text": [
      "Training...\n",
      "\n",
      "EPOCH 1 ...\n",
      "EPOCH 2 ...\n",
      "EPOCH 3 ...\n",
      "EPOCH 4 ...\n",
      "EPOCH 5 ...\n",
      "EPOCH 6 ...\n",
      "EPOCH 7 ...\n",
      "EPOCH 8 ...\n",
      "EPOCH 9 ...\n",
      "EPOCH 10 ...\n",
      "Model saved\n"
     ]
    }
   ],
   "source": [
    "#X_train訓練データ,Y_trainラベルデータを用いてモデルを作成\n",
    "\n",
    "with tf.Session() as sess:\n",
    "    sess.run(tf.global_variables_initializer())\n",
    "    num_examples = len(X_train)\n",
    "    \n",
    "    print(\"Training...\")\n",
    "    print()\n",
    "    ##　EPOCHS=10（パターンが数字0〜9の10種類　→　1データずつ確認）\n",
    "    for i in range(EPOCHS):\n",
    "    \n",
    "        #順序依存の誤教示を排除するためシャッフルする\n",
    "        #　→　シャッフルにより　少数第２位水準で　実行のたびにモデル精度が変化する（シャッフル不要かも？）\n",
    "        X_train, y_train = shuffle(X_train, y_train)\n",
    "        \n",
    "        #55000点データをBATCH_SIZE分ずつ処理\n",
    "        for offset in range(0, num_examples, BATCH_SIZE):\n",
    "            end = offset + BATCH_SIZE\n",
    "            \n",
    "            #batchはX_train、Y_trainの抜き出し部分（実入力データ）\n",
    "            batch_x, batch_y = X_train[offset:end], y_train[offset:end]\n",
    "            \n",
    "            #先に定義したtraining_operation（Adam法）で入力データ[X_train,Y_train]を評価値に変換する\n",
    "            sess.run(training_operation, feed_dict={x: batch_x, y: batch_y})\n",
    "    \n",
    "        print(\"EPOCH {} ...\".format(i+1))\n",
    "\n",
    "    \"\"\" # evaluate は単なるデバッグのためだけの評価処理\n",
    "        #　　従ってevaluate は生成モデルの精度と全く無関係　\n",
    "    　　#  　評価データX_validation, y_validation　は評価目的だけの変数(無駄)\n",
    "        #　　　　　　→X_test, y_test だけあれば動作評価できる\n",
    "        \n",
    "        validation_accuracy = evaluate(X_validation, y_validation)\n",
    "        print(\"Validation Accuracy = {:.3f}\".format(validation_accuracy))\n",
    "        print()\n",
    "        \n",
    "        \n",
    "    \"\"\"        \n",
    "    saver.save(sess, './lenet')\n",
    "    print(\"Model saved\")\n",
    "  ##  tf.train.Saver.last_checkpoints\n",
    "\n",
    "\n",
    "\n",
    "#saver.save(sess, './lenet')実行により\n",
    "#①lenet.data-00000-of-00001②lenet.index③lenet.meta④checkpointの計４ファイルが記録される\n",
    "\n",
    "#　saver.save(sess, './lenet')で保存されたモデルデータがあれば、Train the Modelは、以降　再実行の必要ない！！\n",
    "#　→　jupyterで　本ステップは省略・次項へ　スキップ可能"
   ]
  },
  {
   "cell_type": "markdown",
   "metadata": {},
   "source": [
    "## Evaluate the Model\n",
    "Once you are completely satisfied with your model, evaluate the performance of the model on the test set.\n",
    "\n",
    "Be sure to only do this once!\n",
    "\n",
    "If you were to measure the performance of your trained model on the test set, then improve your model, and then measure the performance of your model on the test set again, that would invalidate your test results. You wouldn't get a true measure of how well your model would perform against real data.\n",
    "\n",
    "You do not need to modify this section."
   ]
  },
  {
   "cell_type": "code",
   "execution_count": 15,
   "metadata": {},
   "outputs": [
    {
     "name": "stdout",
     "output_type": "stream",
     "text": [
      "INFO:tensorflow:Restoring parameters from ./lenet\n",
      "Test Accuracy = 0.989\n"
     ]
    }
   ],
   "source": [
    "#手法①　checkpointファイルで指定された定義モデルを restoreでファイルからリロードする！\n",
    "with tf.Session() as sess:\n",
    "    sess.run(tf.global_variables_initializer())\n",
    "    saver.restore(sess, tf.train.latest_checkpoint('.'))\n",
    "   \n",
    "    #X_test, y_testに対してevaluateの実行    \n",
    "    test_accuracy = evaluate(X_test, y_test)\n",
    "    print(\"Test Accuracy = {:.3f}\".format(test_accuracy))"
   ]
  },
  {
   "cell_type": "code",
   "execution_count": 16,
   "metadata": {},
   "outputs": [
    {
     "name": "stdout",
     "output_type": "stream",
     "text": [
      "INFO:tensorflow:Restoring parameters from ./lenet\n",
      "Test Accuracy = 0.989\n"
     ]
    }
   ],
   "source": [
    "#手法②　先に記録した定義モデルをrestoreでファイルからリロードする！\n",
    "import tensorflow as tf\n",
    "saver = tf.train.Saver() \n",
    "with tf.Session() as sess:\n",
    "    sess.run(tf.global_variables_initializer())\n",
    "    saver.restore(sess, './lenet')\n",
    "\n",
    "    #X_test, y_testに対してevaluateの実行    \n",
    "    test_accuracy = evaluate(X_test, y_test)\n",
    "    print(\"Test Accuracy = {:.3f}\".format(test_accuracy))\n",
    "    \n",
    "##***ディフォルトの精度******　    \n",
    "##INFO:tensorflow:Restoring parameters from ./lenet\n",
    "##Test Accuracy = 0.988"
   ]
  },
  {
   "cell_type": "code",
   "execution_count": 17,
   "metadata": {
    "scrolled": true
   },
   "outputs": [
    {
     "name": "stdout",
     "output_type": "stream",
     "text": [
      "./lenet\n"
     ]
    }
   ],
   "source": [
    "import tensorflow as tf\n",
    "\n",
    "print(tf.train.latest_checkpoint('.'))\n",
    "#結果はsaver.saveで指示した　'./lenet'\n"
   ]
  },
  {
   "cell_type": "code",
   "execution_count": 18,
   "metadata": {},
   "outputs": [
    {
     "name": "stdout",
     "output_type": "stream",
     "text": [
      "INFO:tensorflow:Restoring parameters from ./lenet\n",
      "lbl [9]\n",
      "[  9.89432192e-06]\n",
      "one_hot_y [[ 0.  0.  0.  0.  0.  0.  0.  0.  0.  1.]] 1.0\n",
      "logits [[ -4.25255442 -10.8338089   -4.86173916   4.43279505  -2.75371194\n",
      "   -3.87017369 -10.27547646  -0.88582116  -0.31856254  15.97699738]] 15.977\n",
      "[[array([9])], [array([9])]]\n",
      "tf_argmax:logits [array([9])]\n",
      "tf_argmax:one_hot [array([9])]\n",
      "correct_prediction [ True]\n",
      "INFO:tensorflow:Restoring parameters from ./lenet\n",
      "lbl [7]\n",
      "[  3.26628106e-05]\n",
      "one_hot_y [[ 0.  0.  0.  0.  0.  0.  0.  1.  0.  0.]] 1.0\n",
      "logits [[ -8.31151867  -4.20266104   2.84135938   1.75138283  -2.63236737\n",
      "   -9.00168991 -16.2844696   13.4738903   -3.4603281   -1.60532534]] 13.4739\n",
      "[[array([7])], [array([7])]]\n",
      "tf_argmax:logits [array([7])]\n",
      "tf_argmax:one_hot [array([7])]\n",
      "correct_prediction [ True]\n",
      "INFO:tensorflow:Restoring parameters from ./lenet\n",
      "lbl [4]\n",
      "[ 0.06185926]\n",
      "one_hot_y [[ 0.  0.  0.  0.  1.  0.  0.  0.  0.  0.]] 1.0\n",
      "logits [[-6.44137716 -8.89743614 -3.40324402 -5.98299265  8.86319447 -2.31431389\n",
      "  -2.59111547 -9.86291599  1.94911337  6.09521961]] 8.86319\n",
      "[[array([4])], [array([4])]]\n",
      "tf_argmax:logits [array([4])]\n",
      "tf_argmax:one_hot [array([4])]\n",
      "correct_prediction [ True]\n"
     ]
    }
   ],
   "source": [
    "import numpy as np\n",
    "import matplotlib.pyplot as plt\n",
    "import tensorflow as tf\n",
    "saver = tf.train.Saver() \n",
    "\n",
    "\n",
    "with tf.Session() as sess:\n",
    "    OK=113\n",
    "    sess.run(tf.global_variables_initializer())\n",
    "    saver.restore(sess, './lenet')    \n",
    "    \n",
    "    X_try = np.array( [X_test[OK]])\n",
    "    y_try = np.array( [y_test[OK]])\n",
    "    print('lbl',y_try)\n",
    "    show_debug(X_try,y_try)\n",
    "    \n",
    "    OK=114 \n",
    "    sess.run(tf.global_variables_initializer())\n",
    "    saver.restore(sess, './lenet')    \n",
    "    X_try = np.array( [X_test[OK]])\n",
    "    y_try = np.array( [y_test[OK]])\n",
    "    print('lbl',y_try)\n",
    "    show_debug(X_try,y_try)\n",
    "\n",
    "    NG=115\n",
    "    sess.run(tf.global_variables_initializer())\n",
    "    saver.restore(sess, './lenet')    \n",
    "    X_try = np.array( [X_test[NG]])\n",
    "    y_try = np.array( [y_test[NG]])\n",
    "    print('lbl',y_try)\n",
    "    show_debug(X_try,y_try)"
   ]
  },
  {
   "cell_type": "code",
   "execution_count": 19,
   "metadata": {},
   "outputs": [
    {
     "name": "stdout",
     "output_type": "stream",
     "text": [
      "INFO:tensorflow:Restoring parameters from ./lenet\n",
      "i 18\n",
      "(10000, 32, 32, 1) <class 'numpy.ndarray'>\n",
      "(1, 32, 32, 1)\n",
      "3\n",
      "[-8]\n"
     ]
    },
    {
     "data": {
      "image/png": "[encoded data removed]",
      "text/plain": [
       "<matplotlib.figure.Figure at 0x7ff335f4b5f8>"
      ]
     },
     "metadata": {},
     "output_type": "display_data"
    }
   ],
   "source": [
    "import numpy as np\n",
    "import matplotlib.pyplot as plt\n",
    "import tensorflow as tf\n",
    "saver = tf.train.Saver() \n",
    "with tf.Session() as sess:\n",
    "#先に記録した定義モデルをrestoreでファイルからリロードする！\n",
    "    saver.restore(sess, './lenet')\n",
    "\n",
    "    for i in range(X_test.shape[0]) : \n",
    "        X_try = np.array( [X_test[i]])\n",
    "        y_try = np.array( [y_test[i]])\n",
    "\n",
    "        n=( evaluatecustom(X_try, y_try) )\n",
    "        #print(n)\n",
    "        if(n<0):\n",
    "            print('i',i)\n",
    "            print(X_test.shape,type(X_test))\n",
    "            print(X_try.shape)\n",
    "\n",
    "            print(y_test[i])\n",
    "            print(n)\n",
    "\n",
    "            plt.figure()\n",
    "            plt.imshow(X_try.squeeze())\n",
    "            \n",
    "            break"
   ]
  },
  {
   "cell_type": "code",
   "execution_count": null,
   "metadata": {
    "collapsed": true
   },
   "outputs": [],
   "source": []
  }
 ],
 "metadata": {
  "anaconda-cloud": {},
  "kernelspec": {
   "display_name": "Python 3",
   "language": "python",
   "name": "python3"
  },
  "language_info": {
   "codemirror_mode": {
    "name": "ipython",
    "version": 3
   },
   "file_extension": ".py",
   "mimetype": "text/x-python",
   "name": "python",
   "nbconvert_exporter": "python",
   "pygments_lexer": "ipython3",
   "version": "3.6.3"
  },
  "widgets": {
   "state": {},
   "version": "1.1.2"
  }
 },
 "nbformat": 4,
 "nbformat_minor": 1
}
