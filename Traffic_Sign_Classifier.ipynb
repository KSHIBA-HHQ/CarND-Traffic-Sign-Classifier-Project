{
 "cells": [
  {
   "cell_type": "markdown",
   "metadata": {},
   "source": [
    "# Self-Driving Car Engineer Nanodegree\n",
    "\n",
    "## Deep Learning\n",
    "\n",
    "## Project: Build a Traffic Sign Recognition Classifier\n",
    "\n",
    "In this notebook, a template is provided for you to implement your functionality in stages, which is required to successfully complete this project. If additional code is required that cannot be included in the notebook, be sure that the Python code is successfully imported and included in your submission if necessary. \n",
    "\n",
    "> **Note**: Once you have completed all of the code implementations, you need to finalize your work by exporting the iPython Notebook as an HTML document. Before exporting the notebook to html, all of the code cells need to have been run so that reviewers can see the final implementation and output. You can then export the notebook by using the menu above and navigating to  \\n\",\n",
    "    \"**File -> Download as -> HTML (.html)**. Include the finished document along with this notebook as your submission. \n",
    "\n",
    "In addition to implementing code, there is a writeup to complete. The writeup should be completed in a separate file, which can be either a markdown file or a pdf document. There is a [write up template](https://github.com/udacity/CarND-Traffic-Sign-Classifier-Project/blob/master/writeup_template.md) that can be used to guide the writing process. Completing the code template and writeup template will cover all of the [rubric points](https://review.udacity.com/#!/rubrics/481/view) for this project.\n",
    "\n",
    "The [rubric](https://review.udacity.com/#!/rubrics/481/view) contains \"Stand Out Suggestions\" for enhancing the project beyond the minimum requirements. The stand out suggestions are optional. If you decide to pursue the \"stand out suggestions\", you can include the code in this Ipython notebook and also discuss the results in the writeup file.\n",
    "\n",
    "\n",
    ">**Note:** Code and Markdown cells can be executed using the **Shift + Enter** keyboard shortcut. In addition, Markdown cells can be edited by typically double-clicking the cell to enter edit mode."
   ]
  },
  {
   "cell_type": "markdown",
   "metadata": {},
   "source": [
    "---\n",
    "## Step 0: Load The Data"
   ]
  },
  {
   "cell_type": "markdown",
   "metadata": {},
   "source": [
    "---\n",
    "\n",
    "## Step 1: Dataset Summary & Exploration\n",
    "\n",
    "The pickled data is a dictionary with 4 key/value pairs:\n",
    "\n",
    "- `'features'` is a 4D array containing raw pixel data of the traffic sign images, (num examples, width, height, channels).\n",
    "- `'labels'` is a 1D array containing the label/class id of the traffic sign. The file `signnames.csv` contains id -> name mappings for each id.\n",
    "- `'sizes'` is a list containing tuples, (width, height) representing the original width and height the image.\n",
    "- `'coords'` is a list containing tuples, (x1, y1, x2, y2) representing coordinates of a bounding box around the sign in the image. **THESE COORDINATES ASSUME THE ORIGINAL IMAGE. THE PICKLED DATA CONTAINS RESIZED VERSIONS (32 by 32) OF THESE IMAGES**\n",
    "\n",
    "Complete the basic data summary below. Use python, numpy and/or pandas methods to calculate the data summary rather than hard coding the results. For example, the [pandas shape method](http://pandas.pydata.org/pandas-docs/stable/generated/pandas.DataFrame.shape.html) might be useful for calculating some of the summary results. "
   ]
  },
  {
   "cell_type": "code",
   "execution_count": 1,
   "metadata": {},
   "outputs": [
    {
     "name": "stdout",
     "output_type": "stream",
     "text": [
      "['', '/home/kshiba/conda/lib/python3.6/site-packages', '/home/kshiba/catkin_ws/devel/lib/python2.7/dist-packages', '/opt/ros/indigo/lib/python2.7/dist-packages', '/home/kshiba/conda/envs/IntroToTensorFlow/lib/python36.zip', '/home/kshiba/conda/envs/IntroToTensorFlow/lib/python3.6', '/home/kshiba/conda/envs/IntroToTensorFlow/lib/python3.6/lib-dynload', '/home/kshiba/conda/envs/IntroToTensorFlow/lib/python3.6/site-packages', '/home/kshiba/conda/envs/IntroToTensorFlow/lib/python3.6/site-packages/IPython/extensions', '/home/kshiba/.ipython']\n",
      "python_version 3.6.3\n",
      "X_train (34799, 32, 32, 3) <class 'numpy.ndarray'>\n",
      "y_train (34799,) <class 'numpy.ndarray'>\n",
      "X_valid (4410, 32, 32, 3) <class 'numpy.ndarray'>\n",
      "y_valid (4410,) <class 'numpy.ndarray'>\n",
      "X_test (12630, 32, 32, 3) <class 'numpy.ndarray'>\n",
      "y_test (12630,) <class 'numpy.ndarray'>\n"
     ]
    }
   ],
   "source": [
    "# coding: UTF-8\n",
    "\n",
    "########## Function Part1 (Data Load) ################## \n",
    "import os\n",
    "print(os.sys.path)\n",
    "\n",
    "# Load pickled data\n",
    "\n",
    "import platform\n",
    "print('python_version',platform.python_version())\n",
    "\n",
    "# Load pickled data\n",
    "import pickle\n",
    "\n",
    "\n",
    "# TODO: Fill this in based on where you saved the training and testing data\n",
    "\n",
    "training_file = './train.p'\n",
    "validation_file='./valid.p'\n",
    "testing_file =  './test.p'\n",
    "\n",
    "with open(training_file, mode='rb') as f:\n",
    "    train = pickle.load(f)\n",
    "with open(validation_file, mode='rb') as f:\n",
    "    valid = pickle.load(f)\n",
    "with open(testing_file, mode='rb') as f:\n",
    "    test = pickle.load(f)\n",
    "    \n",
    "X_train, y_train = train['features'], train['labels']\n",
    "X_valid, y_valid = valid['features'], valid['labels']\n",
    "X_test, y_test = test['features'], test['labels']\n",
    "\n",
    "print('X_train',X_train.shape,type(X_train))\n",
    "print('y_train',y_train.shape,type(y_train))\n",
    "print('X_valid',X_valid.shape,type(X_valid))\n",
    "\n",
    "print('y_valid',y_valid.shape,type(y_valid))\n",
    "print('X_test',X_test.shape,type(X_test))\n",
    "print('y_test',y_test.shape,type(y_test))"
   ]
  },
  {
   "cell_type": "code",
   "execution_count": 2,
   "metadata": {},
   "outputs": [
    {
     "name": "stdout",
     "output_type": "stream",
     "text": [
      "Go straight or right & Speed limit (70km/h)\n"
     ]
    }
   ],
   "source": [
    "\n",
    "########## Function Part2 (signnames Load) ################## \n",
    "import numpy as np\n",
    "import csv\n",
    "\n",
    "xlist=[]\n",
    "with open('signnames.csv', 'r') as f:\n",
    "    reader = csv.reader(f) # リストで読まれる\n",
    "    header = next(reader)  # ヘッダーを読み飛ばしたい時\n",
    "\n",
    "    for row in reader:\n",
    "        xlist.append(row)\n",
    "        #print(row[0],row[1])\n",
    "        #print(row)\n",
    "        \n",
    "print(xlist[y_train[1000]][1],'&',xlist[y_valid[1000]][1])\n",
    "\n"
   ]
  },
  {
   "cell_type": "code",
   "execution_count": 3,
   "metadata": {},
   "outputs": [
    {
     "name": "stdout",
     "output_type": "stream",
     "text": [
      "cv2.version 3.1.0\n",
      "X_train[0].shape (32, 32, 3)\n",
      "X_train.shape (34799, 32, 32, 3)\n",
      " len(X_train.shape) 4\n",
      "################\n",
      "X_train.shape[ 0 ] 34799\n",
      "X_train.shape[ 1 ] 32\n",
      "X_train.shape[ 2 ] 32\n",
      "X_train.shape[ 3 ] 3\n"
     ]
    },
    {
     "data": {
      "image/png": "[encoded data removed]",
      "text/plain": [
       "<matplotlib.figure.Figure at 0x7f29ec2a06d8>"
      ]
     },
     "metadata": {},
     "output_type": "display_data"
    },
    {
     "data": {
      "image/png": "[encoded data removed]",
      "text/plain": [
       "<matplotlib.figure.Figure at 0x7f29cda49748>"
      ]
     },
     "metadata": {},
     "output_type": "display_data"
    },
    {
     "name": "stdout",
     "output_type": "stream",
     "text": [
      "(32, 32, 3)\n",
      "tapple\n",
      "################\n",
      "dict_keys(['coords', 'labels', 'features', 'sizes'])\n",
      "coords\n",
      "features\n",
      "labels\n",
      "sizes\n",
      "dict_keys(['coords', 'labels', 'features', 'sizes'])\n",
      "dict_keys(['sizes', 'coords', 'features', 'labels'])\n",
      "################\n",
      "(34799, 32, 32, 3) (4410, 32, 32, 3) (12630, 32, 32, 3)\n",
      "(34799,) (4410,) (12630,)\n",
      "36 4\n",
      "Go straight or right & Speed limit (70km/h)\n"
     ]
    }
   ],
   "source": [
    "########## My Check Code Debug (Skipable)##################\n",
    "import pickle\n",
    "import matplotlib.pyplot as plt\n",
    "\n",
    "import sys\n",
    "##sys.path.append('/usr/local/lib/python2.7/site-packages')\n",
    "##sys.path.append('/home/kshiba/conda/lib/python3.6/site-packages')\n",
    "import cv2\n",
    "print('cv2.version',cv2.__version__)\n",
    "\n",
    "#print(len(train))#print(train)\n",
    "#print(len(valid))#print(valid)\n",
    "#print(len(test))#print(test)\n",
    "#print(len(train['features']) )\n",
    "\n",
    "#print(X_train[:,:,:,:])\n",
    "#X_train[0,:,:,:].shape[2]\n",
    "\n",
    "print('X_train[0].shape',X_train[0].shape)\n",
    "print('X_train.shape' ,X_train.shape )\n",
    "print(' len(X_train.shape)', len(X_train.shape))\n",
    "\n",
    "print('################')        \n",
    "for i in range(len(X_train.shape) ):\n",
    "    print('X_train.shape[',i,']',X_train.shape[i] )\n",
    "\n",
    "#print(X_train[0,:,:,0])\n",
    "plt.imshow(X_train[1000,:,:,2])\n",
    "plt.show()\n",
    "\n",
    "plt.imshow(X_valid[1000,:,:,:])\n",
    "plt.show()\n",
    "\n",
    "\n",
    "\n",
    "print(X_train.shape[1:4])\n",
    "if  X_train.shape[1:3]==(32,32):\n",
    "     print('tapple')\n",
    "else:\n",
    "     print('other')\n",
    "print('################')        \n",
    "print(train.keys())\n",
    "for i in range(len(train.keys())):\n",
    "    print(sorted(train.keys())[i])\n",
    "    \n",
    "print(valid.keys())\n",
    "print(test.keys())\n",
    "print('################')        \n",
    "\n",
    "\n",
    "print(X_train.shape,X_valid.shape,X_test.shape)\n",
    "print(y_train.shape,y_valid.shape,y_test.shape)\n",
    "print(y_train[1000],y_valid[1000],)\n",
    "\n",
    "        \n",
    "print(xlist[y_train[1000]][1],'&',xlist[y_valid[1000]][1])\n"
   ]
  },
  {
   "cell_type": "markdown",
   "metadata": {},
   "source": [
    "### Provide a Basic Summary of the Data Set Using Python, Numpy and/or Pandas"
   ]
  },
  {
   "cell_type": "code",
   "execution_count": 4,
   "metadata": {},
   "outputs": [
    {
     "name": "stdout",
     "output_type": "stream",
     "text": [
      "Number of training examples = 34799\n",
      "Number of testing examples = 12630\n",
      "Image data shape = (32, 32, 3)\n",
      "Number of classes = 43\n"
     ]
    }
   ],
   "source": [
    "########## Function Part3 (Set Num of Sys-Param & Basic Summary) ################## \n",
    "\n",
    "import numpy as np\n",
    "### Replace each question mark with the appropriate value. \n",
    "### Use python, pandas or numpy methods rather than hard coding the results\n",
    "\n",
    "# TODO: Number of training examples\n",
    "n_train = X_train.shape[0]\n",
    "\n",
    "# TODO: Number of validation examples\n",
    "n_validation = X_valid.shape[0]\n",
    "\n",
    "# TODO: Number of testing examples.\n",
    "n_test = X_test.shape[0]\n",
    "\n",
    "# TODO: What's the shape of an traffic sign image?\n",
    "image_shape = X_test.shape[1:4]\n",
    "\n",
    "# TODO: How many unique classes/labels there are in the dataset.\n",
    "n_classes = len(np.unique(y_train))    #label'num = class's num\n",
    "\n",
    "print(\"Number of training examples =\", n_train)\n",
    "print(\"Number of testing examples =\", n_test)\n",
    "print(\"Image data shape =\", image_shape)\n",
    "print(\"Number of classes =\", n_classes)"
   ]
  },
  {
   "cell_type": "markdown",
   "metadata": {},
   "source": [
    "### Include an exploratory visualization of the dataset"
   ]
  },
  {
   "cell_type": "markdown",
   "metadata": {},
   "source": [
    "Visualize the German Traffic Signs Dataset using the pickled file(s). This is open ended, suggestions include: plotting traffic sign images, plotting the count of each sign, etc. \n",
    "\n",
    "The [Matplotlib](http://matplotlib.org/) [examples](http://matplotlib.org/examples/index.html) and [gallery](http://matplotlib.org/gallery.html) pages are a great resource for doing visualizations in Python.\n",
    "\n",
    "**NOTE:** It's recommended you start with something simple first. If you wish to do more, come back to it after you've completed the rest of the sections. It can be interesting to look at the distribution of classes in the training, validation and test set. Is the distribution the same? Are there more examples of some classes than others?"
   ]
  },
  {
   "cell_type": "code",
   "execution_count": 5,
   "metadata": {},
   "outputs": [
    {
     "name": "stdout",
     "output_type": "stream",
     "text": [
      "24031 y_train[index],xlist[y_train[index]------- 7 ['7', 'Speed limit (100km/h)']\n",
      "X_train[index] <class 'numpy.ndarray'>\n",
      "pilImg <class 'PIL.Image.Image'>\n",
      "(32, 32, 3)\n",
      "(32, 32)\n"
     ]
    },
    {
     "data": {
      "text/plain": [
       "<matplotlib.image.AxesImage at 0x7f29b77f5c18>"
      ]
     },
     "execution_count": 5,
     "metadata": {},
     "output_type": "execute_result"
    },
    {
     "data": {
      "image/png": "[encoded data removed]",
      "text/plain": [
       "<matplotlib.figure.Figure at 0x7f29b79b31d0>"
      ]
     },
     "metadata": {},
     "output_type": "display_data"
    },
    {
     "data": {
      "image/png": "[encoded data removed]",
      "text/plain": [
       "<matplotlib.figure.Figure at 0x7f29b794e358>"
      ]
     },
     "metadata": {},
     "output_type": "display_data"
    },
    {
     "data": {
      "image/png": "[encoded data removed]",
      "text/plain": [
       "<matplotlib.figure.Figure at 0x7f29b7903f98>"
      ]
     },
     "metadata": {},
     "output_type": "display_data"
    },
    {
     "data": {
      "image/png": "[encoded data removed]",
      "text/plain": [
       "<matplotlib.figure.Figure at 0x7f29b78c7cc0>"
      ]
     },
     "metadata": {},
     "output_type": "display_data"
    },
    {
     "data": {
      "image/png": "[encoded data removed]",
      "text/plain": [
       "<matplotlib.figure.Figure at 0x7f29b78dab70>"
      ]
     },
     "metadata": {},
     "output_type": "display_data"
    },
    {
     "data": {
      "image/png": "[encoded data removed]",
      "text/plain": [
       "<matplotlib.figure.Figure at 0x7f29b78da518>"
      ]
     },
     "metadata": {},
     "output_type": "display_data"
    }
   ],
   "source": [
    "########## My Check Code Debug  (Skipable)##################\n",
    "# 各データの内訳確認\n",
    "### Data exploration visualization code goes here.\n",
    "### Feel free to use as many code cells as needed.\n",
    "import matplotlib.pyplot as plt\n",
    "# Visualizations will be shown in the notebook.\n",
    "%matplotlib inline\n",
    "\n",
    "\n",
    "import random\n",
    "index = random.randint(0, len(X_train))\n",
    "image = X_train[index].squeeze()\n",
    "\n",
    "plt.figure(figsize=(2,2))\n",
    "plt.imshow(image)  ##plt.imshow(image, cmap=\"gray\")\n",
    "\n",
    "gray = cv2.cvtColor(X_train[index], cv2.COLOR_BGR2GRAY)\n",
    "plt.figure(figsize=(1,2))\n",
    "plt.imshow(gray, cmap=\"gray\")\n",
    "\n",
    "\n",
    "\n",
    "from PIL import Image\n",
    "import numpy as np\n",
    "\n",
    "print(index,'y_train[index],xlist[y_train[index]-------',y_train[index],xlist[y_train[index]])\n",
    "\n",
    "print('X_train[index]',type(X_train[index]) )\n",
    "pilImg = Image.fromarray(np.uint8(X_train[index]))\n",
    "\n",
    "plt.figure(figsize=(1,1))\n",
    "plt.imshow(pilImg)\n",
    "print('pilImg',type(pilImg) )\n",
    "\n",
    "\n",
    "plt.figure(figsize=(1,1))\n",
    "plt.imshow(X_train[index])\n",
    "print(X_train[index].shape)\n",
    "gray2 = cv2.cvtColor(X_train[index], cv2.COLOR_BGR2GRAY)\n",
    "plt.figure(figsize=(1,1))\n",
    "plt.imshow(gray)\n",
    "print(gray.shape)\n",
    "\n",
    "gray= cv2.bilateralFilter(gray,9,55,55)\n",
    "        \n",
    "    \n",
    "plt.figure(figsize=(1,1))\n",
    "plt.imshow(gray,cmap='gray')\n",
    "\n"
   ]
  },
  {
   "cell_type": "markdown",
   "metadata": {},
   "source": [
    "----\n",
    "\n",
    "## Step 2: Design and Test a Model Architecture\n",
    "\n",
    "Design and implement a deep learning model that learns to recognize traffic signs. Train and test your model on the [German Traffic Sign Dataset](http://benchmark.ini.rub.de/?section=gtsrb&subsection=dataset).\n",
    "\n",
    "The LeNet-5 implementation shown in the [classroom](https://classroom.udacity.com/nanodegrees/nd013/parts/fbf77062-5703-404e-b60c-95b78b2f3f9e/modules/6df7ae49-c61c-4bb2-a23e-6527e69209ec/lessons/601ae704-1035-4287-8b11-e2c2716217ad/concepts/d4aca031-508f-4e0b-b493-e7b706120f81) at the end of the CNN lesson is a solid starting point. You'll have to change the number of classes and possibly the preprocessing, but aside from that it's plug and play! \n",
    "\n",
    "With the LeNet-5 solution from the lecture, you should expect a validation set accuracy of about 0.89. To meet specifications, the validation set accuracy will need to be at least 0.93. It is possible to get an even higher accuracy, but 0.93 is the minimum for a successful project submission. \n",
    "\n",
    "There are various aspects to consider when thinking about this problem:\n",
    "\n",
    "- Neural network architecture (is the network over or underfitting?)\n",
    "- Play around preprocessing techniques (normalization, rgb to grayscale, etc)\n",
    "- Number of examples per label (some have more than others).\n",
    "- Generate fake data.\n",
    "\n",
    "Here is an example of a [published baseline model on this problem](http://yann.lecun.com/exdb/publis/pdf/sermanet-ijcnn-11.pdf). It's not required to be familiar with the approach used in the paper but, it's good practice to try to read papers like these."
   ]
  },
  {
   "cell_type": "markdown",
   "metadata": {},
   "source": [
    "### Pre-process the Data Set (normalization, grayscale, etc.)"
   ]
  },
  {
   "cell_type": "markdown",
   "metadata": {},
   "source": [
    "Minimally, the image data should be normalized so that the data has mean zero and equal variance. For image data, `(pixel - 128)/ 128` is a quick way to approximately normalize the data and can be used in this project. \n",
    "\n",
    "Other pre-processing steps are optional. You can try different techniques to see if it improves performance. \n",
    "\n",
    "Use the code cell (or multiple code cells, if necessary) to implement the first step of your project."
   ]
  },
  {
   "cell_type": "code",
   "execution_count": 6,
   "metadata": {
    "collapsed": true
   },
   "outputs": [],
   "source": [
    "########## Function Part4 (define calculation func) ################## \n",
    "import numpy as np\n",
    "def zscore(x, axis = None):\n",
    "####　データから平均値をとって標準偏差で割ると正規化    \n",
    "    xmean = x.mean(axis=axis, keepdims=True)\n",
    "    xstd  = np.std(x, axis=axis, keepdims=True)\n",
    "    zscore = (x-xmean)/xstd\n",
    "    return zscore\n",
    "def min_max(x, axis=None):\n",
    "####　データからを最大最小差で処理　→　階調補正\n",
    "    min = x.min(axis=axis, keepdims=True)\n",
    "    max = x.max(axis=axis, keepdims=True)\n",
    "    result = (x-min)/(max-min)\n",
    "    return result\n",
    "###https://deepage.net/features/numpy-normalize.html"
   ]
  },
  {
   "cell_type": "code",
   "execution_count": 8,
   "metadata": {},
   "outputs": [
    {
     "name": "stdout",
     "output_type": "stream",
     "text": [
      "(32, 32, 3) <class 'numpy.ndarray'>\n",
      "(32, 32, 3) <class 'numpy.ndarray'>\n",
      "(32, 32, 3) <class 'numpy.ndarray'>\n",
      "D (32, 32, 3)\n",
      "D (2, 32, 32, 3)\n",
      "D (3, 32, 32, 3)\n",
      "<class 'list'>\n",
      "<class 'numpy.ndarray'>\n",
      "x_train (10, 32, 32, 3) <class 'numpy.ndarray'>\n"
     ]
    },
    {
     "data": {
      "text/plain": [
       "<matplotlib.image.AxesImage at 0x7f29cda49160>"
      ]
     },
     "execution_count": 8,
     "metadata": {},
     "output_type": "execute_result"
    },
    {
     "data": {
      "image/png": "[encoded data removed]",
      "text/plain": [
       "<matplotlib.figure.Figure at 0x7f29f441d5f8>"
      ]
     },
     "metadata": {},
     "output_type": "display_data"
    }
   ],
   "source": [
    "########## My Check Code Debug (Skipable)##################\n",
    "A=X_train[0]\n",
    "B=X_train[1]\n",
    "C=X_train[2]\n",
    "\n",
    "print(A.shape,type(A))\n",
    "print(B.shape,type(B))\n",
    "print(C.shape,type(C))\n",
    "D= A\n",
    "print('D',D.shape)\n",
    "D= np.array([D,B])\n",
    "print('D',D.shape)\n",
    "D= np.array([A,B,C])\n",
    "print('D',D.shape)\n",
    "\n",
    "##############################################\n",
    "res=10\n",
    "x_train = []\n",
    "for row in range(res):\n",
    "    x_train_temp =A\n",
    "    #img_path = img_dir + row['id'] + '.png'\n",
    "    #x_train_temp = cv2.imread(img_path)\n",
    "    # x_train = np.append(x_train,x_train_temp,axis=0)\n",
    "    x_train.append(x_train_temp)\n",
    "\n",
    "print(type(x_train))    \n",
    "x_train = np.asarray(x_train) ##list to ndArray\n",
    "print(type(x_train))  \n",
    "\n",
    "print('x_train',x_train.shape,type(x_train))\n",
    "\n",
    "import matplotlib.pyplot as plt\n",
    "# Visualizations will be shown in the notebook.\n",
    "%matplotlib inline\n",
    "plt.figure(figsize=(1,1))\n",
    "plt.imshow(x_train[9])\n",
    "#############################\n"
   ]
  },
  {
   "cell_type": "code",
   "execution_count": 22,
   "metadata": {},
   "outputs": [],
   "source": [
    "########## Function Part6 (define calculation func) ################## \n",
    "from PIL import Image   #use pilImg\n",
    "import cv2\n",
    "import numpy as np\n",
    "####$$$$$$$$$$$$$$$$$$$$$$$$$$$$$$$$$$$$$$$$$$$$$$$$$$$$$$$$$$$$$$$$$$$$\n",
    "\n",
    "def MyConvertRGB2NRMGRAY(src,flt):\n",
    "    #print(src.shape)\n",
    "    gray= cv2.cvtColor(src, cv2.COLOR_RGB2GRAY)\n",
    "    #print(gray.shape,gray.dtype)\n",
    "    \n",
    "    #GRAY[1:3]=gray\n",
    "    \n",
    "    if(flt==True):\n",
    "        gray= cv2.bilateralFilter(gray,9,55,55)\n",
    "    \n",
    "    gray = zscore(gray)   \n",
    "    gray = min_max(gray)\n",
    "    #print(gray.shape,gray.dtype)\n",
    "        \n",
    "    GRAY=np.reshape(gray.astype(np.float32),(32,32,1))    \n",
    "    #print(GRAY.shape,GRAY.dtype)\n",
    "    \n",
    "    return GRAY\n",
    "\n"
   ]
  },
  {
   "cell_type": "code",
   "execution_count": 23,
   "metadata": {},
   "outputs": [
    {
     "name": "stdout",
     "output_type": "stream",
     "text": [
      "<class 'numpy.ndarray'> (32, 32, 1)\n",
      "<class 'numpy.ndarray'> (1, 32, 32, 1)\n"
     ]
    },
    {
     "data": {
      "text/plain": [
       "'\\ntest=MyConvertRGB2NRMGRAY(X_train[0],True)\\nprint(type(test),test.shape)\\nprint(test)\\n'"
      ]
     },
     "execution_count": 23,
     "metadata": {},
     "output_type": "execute_result"
    }
   ],
   "source": [
    "##debug\n",
    "\n",
    "\n",
    "x_temp=[]\n",
    "gray= MyConvertRGB2NRMGRAY(X_test[0], True)\n",
    "\n",
    "print(type(gray),gray.shape) \n",
    "x_temp.append(gray) \n",
    "temp = np.asarray(x_temp) ##list to ndArray\n",
    "\n",
    "print(type(temp),temp.shape)  \n",
    "\n",
    "\"\"\"\n",
    "test=MyConvertRGB2NRMGRAY(X_train[0],True)\n",
    "print(type(test),test.shape)\n",
    "print(test)\n",
    "\"\"\""
   ]
  },
  {
   "cell_type": "code",
   "execution_count": 24,
   "metadata": {
    "collapsed": true
   },
   "outputs": [],
   "source": [
    "########## Function Part7(define COLOR_RGB2GRAY func) ################## \n",
    "########## [n,32,32,3]のデータを[n,32,32]に変換する\n",
    "########## メモリの都合があるので1000データずつ処理してpickle配列に格納する\n",
    "\n",
    "### Preprocess the data here. It is required to normalize the data. Other preprocessing steps could include \n",
    "### converting to grayscale, etc.\n",
    "### Feel free to use as many code cells as needed.\n",
    "import matplotlib.pyplot as plt\n",
    "import numpy as np\n",
    "\n",
    "# Dump（Save） pickled data\n",
    "import pickle\n",
    "\n",
    "##http://blog.amedama.jp/entry/2015/12/05/132520\n",
    "import io\n",
    "global file \n",
    "\n",
    "\n",
    "def conv_rgb2gray_to_pickleArray1kGroup(rgb_src_list,flag):\n",
    "\n",
    "    file=np.array([ io.BytesIO() ])\n",
    "\n",
    " ################################################\n",
    "    print(type(rgb_src_list))\n",
    "    x_temp =[]\n",
    "\n",
    "    total=rgb_src_list.shape[0]\n",
    "    print(\"loop num total\",total)\n",
    "    for i in range( total) :\n",
    "        gray= MyConvertRGB2NRMGRAY(rgb_src_list[i], flag)\n",
    "        x_temp.append(gray) \n",
    "        \n",
    "        next=i+1\n",
    "        if((next%1000)==0):\n",
    "            ###ndarrayではなく　一旦listでpikle保存\n",
    "            pickle.dump(x_temp, file[int(i/1000)])\n",
    "            file=np.append(file,io.BytesIO())\n",
    "            print(\"conv\",next,\"rate\",float(next)/float(total))\n",
    "            #debug用\n",
    "            tmp=np.asarray(x_temp)\n",
    "            print('x_temp',type(tmp),tmp.shape)\n",
    "            #再度初期化リセット\n",
    "            x_temp =  []\n",
    "        if(next==total):\n",
    "            pickle.dump(x_temp, file[int(i/1000)])\n",
    "\n",
    "    return file"
   ]
  },
  {
   "cell_type": "code",
   "execution_count": 25,
   "metadata": {},
   "outputs": [
    {
     "data": {
      "text/plain": [
       "'\\nglobal file\\nfile=conv_rgb2gray_to_pickleArray1kGroup(X_train,True)\\n########## My Check Code Debug (Skipable)##################\\nx_temp =  [] \\nfile[0].seek(0)\\nxlist=pickle.load(file[0])\\nx_temp.extend(xlist)\\ntmp= np.asarray(x_temp)\\nprint(tmp.shape)#########\\n\\nfile[1].seek(0)\\nxlist=pickle.load(file[1])\\nx_temp.extend(xlist)\\ntmp= np.asarray(x_temp)\\nprint(tmp.shape)#########\\n\\nplt.figure(figsize=(1,5))\\nplt.imshow(x_temp[1999])\\n\\nplt.figure(figsize=(1,5))\\nplt.imshow(X_train[1999])\\n'"
      ]
     },
     "execution_count": 25,
     "metadata": {},
     "output_type": "execute_result"
    }
   ],
   "source": [
    "########## My Check Code Debug (Skipable)##################\n",
    "### conv_rgb2gray_to_pickleArray1kGroup の動作を確認してみる\n",
    "\"\"\"\n",
    "global file\n",
    "file=conv_rgb2gray_to_pickleArray1kGroup(X_train,True)\n",
    "########## My Check Code Debug (Skipable)##################\n",
    "x_temp =  [] \n",
    "file[0].seek(0)\n",
    "xlist=pickle.load(file[0])\n",
    "x_temp.extend(xlist)\n",
    "tmp= np.asarray(x_temp)\n",
    "print(tmp.shape)#########\n",
    "\n",
    "file[1].seek(0)\n",
    "xlist=pickle.load(file[1])\n",
    "x_temp.extend(xlist)\n",
    "tmp= np.asarray(x_temp)\n",
    "print(tmp.shape)#########\n",
    "\n",
    "plt.figure(figsize=(1,5))\n",
    "plt.imshow(x_temp[1999])\n",
    "\n",
    "plt.figure(figsize=(1,5))\n",
    "plt.imshow(X_train[1999])\n",
    "\"\"\"\n",
    "\n"
   ]
  },
  {
   "cell_type": "code",
   "execution_count": 26,
   "metadata": {},
   "outputs": [],
   "source": [
    "# Dump（Save） pickled data\n",
    "import pickle\n",
    "import io\n",
    "\n",
    "def encode_pickleArray1kGroup_to_grayImageArray(file,save_p_file_name):\n",
    "    num=file.shape\n",
    "    print(num)\n",
    "    x_temp =  []\n",
    "    for i in range(num[0]) :\n",
    "        file[i].seek(0)\n",
    "        tmp=pickle.load(file[i])\n",
    "        x_temp.extend(tmp)\n",
    "\n",
    "\n",
    "    print(type(x_temp))    \n",
    "    x_temp = np.asarray(x_temp) ##list to ndArray\n",
    "    print(type(x_temp),x_temp.shape)\n",
    "    \n",
    "    \n",
    "    with open(save_p_file_name, mode='wb') as f:\n",
    "        pickle.dump(x_temp, f)\n",
    "        print(\"complete\");    \n",
    "\n",
    "    return\n",
    "\n",
    "\n",
    "\n"
   ]
  },
  {
   "cell_type": "code",
   "execution_count": 27,
   "metadata": {},
   "outputs": [
    {
     "data": {
      "text/plain": [
       "\"\\nencode_pickleArray1kGroup_to_grayImageArray(file,training_t_file)\\ntrain_cnv =[]\\nwith open(training_t_file, mode='rb') as f:\\n        train_cnv = pickle.load(f)\\n\\nprint(type(train_cnv),train_cnv.shape)\\nplt.figure(figsize=(1,5))\\nplt.imshow(train_cnv[1999])\\n\""
      ]
     },
     "execution_count": 27,
     "metadata": {},
     "output_type": "execute_result"
    }
   ],
   "source": [
    "########## My Check Code Debug (Skipable)##################\n",
    "### encode_pickleArray1kGroup_to_grayImageArray の動作を確認してみる\n",
    "\"\"\"\n",
    "encode_pickleArray1kGroup_to_grayImageArray(file,training_t_file)\n",
    "train_cnv =[]\n",
    "with open(training_t_file, mode='rb') as f:\n",
    "        train_cnv = pickle.load(f)\n",
    "\n",
    "print(type(train_cnv),train_cnv.shape)\n",
    "plt.figure(figsize=(1,5))\n",
    "plt.imshow(train_cnv[1999])\n",
    "\"\"\"\n",
    "\n",
    "    \n"
   ]
  },
  {
   "cell_type": "code",
   "execution_count": 28,
   "metadata": {},
   "outputs": [
    {
     "name": "stdout",
     "output_type": "stream",
     "text": [
      "<class 'numpy.ndarray'>\n",
      "loop num total 34799\n",
      "conv 1000 rate 0.0287364579441938\n",
      "x_temp <class 'numpy.ndarray'> (1000, 32, 32, 1)\n",
      "conv 2000 rate 0.0574729158883876\n",
      "x_temp <class 'numpy.ndarray'> (1000, 32, 32, 1)\n",
      "conv 3000 rate 0.0862093738325814\n",
      "x_temp <class 'numpy.ndarray'> (1000, 32, 32, 1)\n",
      "conv 4000 rate 0.1149458317767752\n",
      "x_temp <class 'numpy.ndarray'> (1000, 32, 32, 1)\n",
      "conv 5000 rate 0.143682289720969\n",
      "x_temp <class 'numpy.ndarray'> (1000, 32, 32, 1)\n",
      "conv 6000 rate 0.1724187476651628\n",
      "x_temp <class 'numpy.ndarray'> (1000, 32, 32, 1)\n",
      "conv 7000 rate 0.2011552056093566\n",
      "x_temp <class 'numpy.ndarray'> (1000, 32, 32, 1)\n",
      "conv 8000 rate 0.2298916635535504\n",
      "x_temp <class 'numpy.ndarray'> (1000, 32, 32, 1)\n",
      "conv 9000 rate 0.25862812149774417\n",
      "x_temp <class 'numpy.ndarray'> (1000, 32, 32, 1)\n",
      "conv 10000 rate 0.287364579441938\n",
      "x_temp <class 'numpy.ndarray'> (1000, 32, 32, 1)\n",
      "conv 11000 rate 0.31610103738613177\n",
      "x_temp <class 'numpy.ndarray'> (1000, 32, 32, 1)\n",
      "conv 12000 rate 0.3448374953303256\n",
      "x_temp <class 'numpy.ndarray'> (1000, 32, 32, 1)\n",
      "conv 13000 rate 0.37357395327451937\n",
      "x_temp <class 'numpy.ndarray'> (1000, 32, 32, 1)\n",
      "conv 14000 rate 0.4023104112187132\n",
      "x_temp <class 'numpy.ndarray'> (1000, 32, 32, 1)\n",
      "conv 15000 rate 0.43104686916290696\n",
      "x_temp <class 'numpy.ndarray'> (1000, 32, 32, 1)\n",
      "conv 16000 rate 0.4597833271071008\n",
      "x_temp <class 'numpy.ndarray'> (1000, 32, 32, 1)\n",
      "conv 17000 rate 0.48851978505129456\n",
      "x_temp <class 'numpy.ndarray'> (1000, 32, 32, 1)\n",
      "conv 18000 rate 0.5172562429954883\n",
      "x_temp <class 'numpy.ndarray'> (1000, 32, 32, 1)\n",
      "conv 19000 rate 0.5459927009396822\n",
      "x_temp <class 'numpy.ndarray'> (1000, 32, 32, 1)\n",
      "conv 20000 rate 0.574729158883876\n",
      "x_temp <class 'numpy.ndarray'> (1000, 32, 32, 1)\n",
      "conv 21000 rate 0.6034656168280698\n",
      "x_temp <class 'numpy.ndarray'> (1000, 32, 32, 1)\n",
      "conv 22000 rate 0.6322020747722635\n",
      "x_temp <class 'numpy.ndarray'> (1000, 32, 32, 1)\n",
      "conv 23000 rate 0.6609385327164574\n",
      "x_temp <class 'numpy.ndarray'> (1000, 32, 32, 1)\n",
      "conv 24000 rate 0.6896749906606512\n",
      "x_temp <class 'numpy.ndarray'> (1000, 32, 32, 1)\n",
      "conv 25000 rate 0.718411448604845\n",
      "x_temp <class 'numpy.ndarray'> (1000, 32, 32, 1)\n",
      "conv 26000 rate 0.7471479065490387\n",
      "x_temp <class 'numpy.ndarray'> (1000, 32, 32, 1)\n",
      "conv 27000 rate 0.7758843644932326\n",
      "x_temp <class 'numpy.ndarray'> (1000, 32, 32, 1)\n",
      "conv 28000 rate 0.8046208224374264\n",
      "x_temp <class 'numpy.ndarray'> (1000, 32, 32, 1)\n",
      "conv 29000 rate 0.8333572803816202\n",
      "x_temp <class 'numpy.ndarray'> (1000, 32, 32, 1)\n",
      "conv 30000 rate 0.8620937383258139\n",
      "x_temp <class 'numpy.ndarray'> (1000, 32, 32, 1)\n",
      "conv 31000 rate 0.8908301962700078\n",
      "x_temp <class 'numpy.ndarray'> (1000, 32, 32, 1)\n",
      "conv 32000 rate 0.9195666542142016\n",
      "x_temp <class 'numpy.ndarray'> (1000, 32, 32, 1)\n",
      "conv 33000 rate 0.9483031121583954\n",
      "x_temp <class 'numpy.ndarray'> (1000, 32, 32, 1)\n",
      "conv 34000 rate 0.9770395701025891\n",
      "x_temp <class 'numpy.ndarray'> (1000, 32, 32, 1)\n",
      "(35,)\n",
      "<class 'list'>\n",
      "<class 'numpy.ndarray'> (34799, 32, 32, 1)\n",
      "complete\n",
      "<class 'numpy.ndarray'>\n",
      "loop num total 4410\n",
      "conv 1000 rate 0.22675736961451248\n",
      "x_temp <class 'numpy.ndarray'> (1000, 32, 32, 1)\n",
      "conv 2000 rate 0.45351473922902497\n",
      "x_temp <class 'numpy.ndarray'> (1000, 32, 32, 1)\n",
      "conv 3000 rate 0.6802721088435374\n",
      "x_temp <class 'numpy.ndarray'> (1000, 32, 32, 1)\n",
      "conv 4000 rate 0.9070294784580499\n",
      "x_temp <class 'numpy.ndarray'> (1000, 32, 32, 1)\n",
      "(5,)\n",
      "<class 'list'>\n",
      "<class 'numpy.ndarray'> (4410, 32, 32, 1)\n",
      "complete\n",
      "<class 'numpy.ndarray'>\n",
      "loop num total 12630\n",
      "conv 1000 rate 0.0791765637371338\n",
      "x_temp <class 'numpy.ndarray'> (1000, 32, 32, 1)\n",
      "conv 2000 rate 0.1583531274742676\n",
      "x_temp <class 'numpy.ndarray'> (1000, 32, 32, 1)\n",
      "conv 3000 rate 0.2375296912114014\n",
      "x_temp <class 'numpy.ndarray'> (1000, 32, 32, 1)\n",
      "conv 4000 rate 0.3167062549485352\n",
      "x_temp <class 'numpy.ndarray'> (1000, 32, 32, 1)\n",
      "conv 5000 rate 0.39588281868566905\n",
      "x_temp <class 'numpy.ndarray'> (1000, 32, 32, 1)\n",
      "conv 6000 rate 0.4750593824228028\n",
      "x_temp <class 'numpy.ndarray'> (1000, 32, 32, 1)\n",
      "conv 7000 rate 0.5542359461599367\n",
      "x_temp <class 'numpy.ndarray'> (1000, 32, 32, 1)\n",
      "conv 8000 rate 0.6334125098970704\n",
      "x_temp <class 'numpy.ndarray'> (1000, 32, 32, 1)\n",
      "conv 9000 rate 0.7125890736342043\n",
      "x_temp <class 'numpy.ndarray'> (1000, 32, 32, 1)\n",
      "conv 10000 rate 0.7917656373713381\n",
      "x_temp <class 'numpy.ndarray'> (1000, 32, 32, 1)\n",
      "conv 11000 rate 0.8709422011084719\n",
      "x_temp <class 'numpy.ndarray'> (1000, 32, 32, 1)\n",
      "conv 12000 rate 0.9501187648456056\n",
      "x_temp <class 'numpy.ndarray'> (1000, 32, 32, 1)\n",
      "(13,)\n",
      "<class 'list'>\n",
      "<class 'numpy.ndarray'> (12630, 32, 32, 1)\n",
      "complete\n",
      "<class 'numpy.ndarray'> (12630, 32, 32, 3) to  <class 'numpy.ndarray'> (12630, 32, 32, 1)\n"
     ]
    },
    {
     "data": {
      "text/plain": [
       "'\\nprint(type(X_train),X_train.shape ,\"to \",type(x_train),x_train.shape)\\nplt.figure(figsize=(1,5))\\nplt.imshow(X_train[1999])\\nplt.figure(figsize=(1,5))\\nplt.imshow(x_train[1999])\\n\\nprint(type(X_valid),X_valid.shape ,\"to \",type(x_valid),x_valid.shape)\\nplt.figure(figsize=(1,5))\\nplt.imshow(X_valid[1999])\\nplt.figure(figsize=(1,5))\\nplt.imshow(x_valid[1999])\\n\\nprint(type(X_test),X_test.shape ,\"to \",type(x_test),x_test.shape)\\nplt.figure(figsize=(1,5))\\nplt.imshow(X_test[1999])\\nplt.figure(figsize=(1,5))\\nplt.imshow(x_test[999])\\n\\n'"
      ]
     },
     "execution_count": 28,
     "metadata": {},
     "output_type": "execute_result"
    }
   ],
   "source": [
    "import os.path\n",
    "import pickle\n",
    "import io\n",
    "\n",
    "training_t_file = './train_t.p'\n",
    "validation_t_file='./valid_t.p'\n",
    "testing_t_file =  './test_t.p'\n",
    "\n",
    "path=[training_t_file,validation_t_file,testing_t_file]\n",
    "\n",
    "#グレー化データのファイル有無を確認\n",
    "flgExist=[os.path.isfile(path[0]),os.path.isfile(path[1]),os.path.isfile(path[2])]\n",
    "\n",
    "x_train=[]\n",
    "x_valid=[]\n",
    "x_test=[]\n",
    "\n",
    "if(flgExist[0]==False):\n",
    "    global file\n",
    "    file=conv_rgb2gray_to_pickleArray1kGroup(X_train,True)\n",
    "    encode_pickleArray1kGroup_to_grayImageArray(file,path[0])\n",
    "\n",
    "if(flgExist[1]==False):\n",
    "    global file\n",
    "    file=conv_rgb2gray_to_pickleArray1kGroup(X_valid,True)\n",
    "    encode_pickleArray1kGroup_to_grayImageArray(file,path[1])\n",
    "    \n",
    "if(flgExist[2]==False):\n",
    "    global file\n",
    "    file=conv_rgb2gray_to_pickleArray1kGroup(X_test,True)\n",
    "    encode_pickleArray1kGroup_to_grayImageArray(file,path[2])\n",
    "    \n",
    "    \n",
    "with open(path[0], mode='rb') as f:\n",
    "    x_train = pickle.load(f)\n",
    "\n",
    "with open(path[1], mode='rb') as f:\n",
    "    x_valid = pickle.load(f)\n",
    "\n",
    "with open(path[2], mode='rb') as f:\n",
    "    x_test = pickle.load(f)\n",
    "    \n",
    "print(type(X_test),X_test.shape ,\"to \",type(x_test),x_test.shape)\n",
    "\"\"\"\n",
    "print(type(X_train),X_train.shape ,\"to \",type(x_train),x_train.shape)\n",
    "plt.figure(figsize=(1,5))\n",
    "plt.imshow(X_train[1999])\n",
    "plt.figure(figsize=(1,5))\n",
    "plt.imshow(x_train[1999])\n",
    "\n",
    "print(type(X_valid),X_valid.shape ,\"to \",type(x_valid),x_valid.shape)\n",
    "plt.figure(figsize=(1,5))\n",
    "plt.imshow(X_valid[1999])\n",
    "plt.figure(figsize=(1,5))\n",
    "plt.imshow(x_valid[1999])\n",
    "\n",
    "print(type(X_test),X_test.shape ,\"to \",type(x_test),x_test.shape)\n",
    "plt.figure(figsize=(1,5))\n",
    "plt.imshow(X_test[1999])\n",
    "plt.figure(figsize=(1,5))\n",
    "plt.imshow(x_test[999])\n",
    "\n",
    "\"\"\""
   ]
  },
  {
   "cell_type": "markdown",
   "metadata": {},
   "source": [
    "### Model Architecture"
   ]
  },
  {
   "cell_type": "code",
   "execution_count": null,
   "metadata": {},
   "outputs": [],
   "source": [
    "### Define your architecture here.\n",
    "### Feel free to use as many code cells as needed.\n",
    "\n",
    "import tensorflow as tf\n",
    "\n",
    "EPOCHS = 10\n",
    "BATCH_SIZE = 128\n",
    "\n",
    "\n",
    "from sklearn.utils import shuffle\n",
    "\n",
    "X_train, y_train = shuffle(X_train, y_train)\n"
   ]
  },
  {
   "cell_type": "code",
   "execution_count": null,
   "metadata": {
    "collapsed": true
   },
   "outputs": [],
   "source": [
    "from tensorflow.contrib.layers import flatten\n",
    "#①ネットワークを構築する\n",
    "def LeNet(x):    \n",
    "    # Arguments used for tf.truncated_normal, randomly defines variables for the weights and biases for each layer\n",
    "    mu = 0\n",
    "    sigma = 0.1\n",
    "    \n",
    "    # SOLUTION: Layer 1: Convolutional. Input = 32x32x1. Output = 28x28x6. \n",
    "    # 5x5のフィルタを適用すると幅高さ32x32→幅高さ28x28となる\n",
    "    # 加えて入力深度が１，出力深度が6なので　shape=(5, 5, 1, 6)を適用する\n",
    "    conv1_W = tf.Variable(tf.truncated_normal(shape=(5, 5, 1, 6), mean = mu, stddev = sigma))  \n",
    "    #出力深度が6なのでバイアスも６セット用意\n",
    "    conv1_b = tf.Variable(tf.zeros(6))\n",
    "    conv1   = tf.nn.conv2d(x, conv1_W, strides=[1, 1, 1, 1], padding='VALID') + conv1_b\n",
    "\n",
    "    # SOLUTION: Activation.\n",
    "    #出力結果にreluを適用する\n",
    "    conv1 = tf.nn.relu(conv1)\n",
    "\n",
    "    # SOLUTION: Pooling. Input = 28x28x6. Output = 14x14x6.\n",
    "    #　maxプーリングを使ってサイズを縮小する\n",
    "    #　入力が[index,幅,高さ,深度]なので第0th,3thは１　1th,2thにカーネルとストライドサイズを設定\n",
    "    #　ksize=[1, w, h, 1]　strides=[1, hstride, vstride, 1]\n",
    "    conv1 = tf.nn.max_pool(conv1, ksize=[1, 2, 2, 1], strides=[1, 2, 2, 1], padding='VALID')\n",
    "\n",
    "    # SOLUTION: Layer 2: Convolutional. Input = 14x14x6.　Output = 10x10x16.\n",
    "    #　フィルタサイズが5x5　入力深度が6　出力深度が16\n",
    "    conv2_W = tf.Variable(tf.truncated_normal(shape=(5, 5, 6, 16), mean = mu, stddev = sigma))\n",
    "    conv2_b = tf.Variable(tf.zeros(16))\n",
    "    conv2   = tf.nn.conv2d(conv1, conv2_W, strides=[1, 1, 1, 1], padding='VALID') + conv2_b\n",
    "    \n",
    "    # SOLUTION: Activation.\n",
    "    conv2 = tf.nn.relu(conv2)\n",
    "\n",
    "    # SOLUTION: Pooling. Input = 10x10x16. Output = 5x5x16.\n",
    "    conv2 = tf.nn.max_pool(conv2, ksize=[1, 2, 2, 1], strides=[1, 2, 2, 1], padding='VALID')\n",
    "\n",
    "    # SOLUTION: Flatten. Input = 5x5x16. Output = 400.\n",
    "    #　5ｘ5ｘ16＝400　1次元に変換\n",
    "    fc0   = flatten(conv2)\n",
    "    \n",
    "    # SOLUTION: Layer 3: Fully Connected. Input = 400. Output = 120.\n",
    "    fc1_W = tf.Variable(tf.truncated_normal(shape=(400, 120), mean = mu, stddev = sigma))\n",
    "    fc1_b = tf.Variable(tf.zeros(120))\n",
    "    fc1   = tf.matmul(fc0, fc1_W) + fc1_b\n",
    "    \n",
    "    # SOLUTION: Activation.\n",
    "    fc1    = tf.nn.relu(fc1)\n",
    "\n",
    "    # SOLUTION: Layer 4: Fully Connected. Input = 120. Output = 84.\n",
    "    fc2_W  = tf.Variable(tf.truncated_normal(shape=(120, 84), mean = mu, stddev = sigma))\n",
    "    fc2_b  = tf.Variable(tf.zeros(84))\n",
    "    fc2    = tf.matmul(fc1, fc2_W) + fc2_b\n",
    "    \n",
    "    # SOLUTION: Activation.\n",
    "    fc2    = tf.nn.relu(fc2)\n",
    "\n",
    "    # SOLUTION: Layer 5: Fully Connected. Input = 84. Output = 10.\n",
    "    #　tf.Variable(tf.Sessionのための準備)を実行\n",
    "    fc3_W  = tf.Variable(tf.truncated_normal(shape=(84, 10), mean = mu, stddev = sigma))\n",
    "    fc3_b  = tf.Variable(tf.zeros(10))\n",
    "    logits = tf.matmul(fc2, fc3_W) + fc3_b\n",
    "    \n",
    "    return logits"
   ]
  },
  {
   "cell_type": "code",
   "execution_count": null,
   "metadata": {
    "collapsed": true
   },
   "outputs": [],
   "source": [
    "#ひな形を用意する\n",
    "\n",
    "#　32ｘ32ｘ1の画像を用意（index=None :大きさを指定しない）\n",
    "x = tf.placeholder(tf.float32, (None, 32, 32, 1))\n",
    "y = tf.placeholder(tf.int32, (None))\n",
    "\n",
    "\n",
    "#y(int32型ラベルデータ)を10パターン分　one_hotデータ(結果)として用意\n",
    "one_hot_y = tf.one_hot(y, 10)"
   ]
  },
  {
   "cell_type": "code",
   "execution_count": null,
   "metadata": {
    "collapsed": true
   },
   "outputs": [],
   "source": [
    "#トレーニング内容を定義する\n",
    "\n",
    "rate = 0.001\n",
    "#用意したLeNet関数に入力x（32x32x1型画像を適用）\n",
    "# ※※※ xはplaceholderで定義　且つ　section内の「辞書」で入力実行※※\n",
    "logits = LeNet(x)\n",
    "#結果をソフトマックス・クロスエントロピーに適用\n",
    "########## \n",
    "#等価処理は　　　　　　　 y = tf.nn.softmax(tf.matmul(x,W) + b)\n",
    "##########  cross_entropy = -tf.reduce_sum(y_*tf.log(y))\n",
    "\n",
    "# ※※※ ｙone_hot_yはplaceholderで定義したyより生成　且つ　section内の「辞書」で入力実行※※\n",
    "cross_entropy = tf.nn.softmax_cross_entropy_with_logits(labels=one_hot_y, logits=logits)\n",
    "\n",
    "#総和平均で得点を計算\n",
    "loss_operation = tf.reduce_mean(cross_entropy)\n",
    "\n",
    "#Adam法による最急降下を選択　\n",
    "optimizer = tf.train.AdamOptimizer(learning_rate = rate)\n",
    "#他最急降下法の適用例：　optimizer = tf.train.GradientDescentOptimizer(0.01).minimize(cross_entropy)\n",
    "\n",
    "#Adam法で評価\n",
    "training_operation = optimizer.minimize(loss_operation)\n",
    "\n",
    "#　「training_operation」が　本プロジェクトの骨子・核である「モデル生成および鍛錬」の為の処理である\n",
    "#　　最急降下法に与える学習レートを調整しながら、とにかくtraining_operationを繰り返すほどモデル精度が向上する\n",
    "#　　（ただし、過学習には注意　)\n"
   ]
  },
  {
   "cell_type": "code",
   "execution_count": null,
   "metadata": {
    "collapsed": true
   },
   "outputs": [],
   "source": [
    "import tensorflow as tf\n",
    "\n",
    "#スコア評価方法を定義する\n",
    "\n",
    "#tf.argmaxの引数\n",
    "#tf.argmax（A,B)　　Aが真のデータ、Bが評価されるデータ\n",
    "#行列についてはdimensionに0を指定すると、行成分についての最大値をもつ要素（列成分）の添字を返却します。\n",
    "#一方dimensionに1を指定すると、列成分についての最小値を持つ要素（行成分）の添字を返却します。\n",
    "\n",
    "#tf.equal：ベクトルが一致しているか否か　True or False　（LeNet結果とOne_Hot値）\n",
    "correct_prediction = tf.equal(tf.argmax(logits, 1), tf.argmax(one_hot_y, 1))\n",
    "#総和平均で得点を計算 →　logitsとone_hotの件数分（例：55000件)のTRUE,FALSEが戻る　全部Trueならtf.reduce_meanは100％一致と出力する\n",
    "accuracy_operation = tf.reduce_mean(tf.cast(correct_prediction, tf.float32))\n",
    "\n",
    "\n",
    "tf_argmax=[[tf.argmax(logits, 1)] , [tf.argmax(one_hot_y, 1)]]\n",
    "\n",
    "####################################################\n",
    "flg= tf.cast(correct_prediction, tf.int32)\n",
    "accuracy_operation_custom=    tf.cast(pow(-1,flg+1) ,tf.int32) *   tf.cast(tf.argmax(logits, 1) ,tf.int32) \n",
    "#######################################################\n",
    "\n",
    "#accuracy_operation_custom = correct_prediction\n",
    "\n",
    "\n",
    "#Tensorflowの学習パラーメータのsave, restoreにはtf.train.Saverを使用\n",
    "#　　→　tf.train.Saver()の引数を指定しない場合は全ての変数が保存\n",
    "saver = tf.train.Saver()\n",
    "\n",
    "def evaluate(X_data, y_data):\n",
    "    num_examples = len(X_data)\n",
    "    total_accuracy = 0\n",
    "    \n",
    "    #変数の初期化　global_variables_initializer\n",
    "    #セッション中身を元の状態に戻す（再リセット）\n",
    "    sess = tf.get_default_session()\n",
    "    \n",
    "    for offset in range(0, num_examples, BATCH_SIZE):\n",
    "        batch_x, batch_y = X_data[offset:offset+BATCH_SIZE], y_data[offset:offset+BATCH_SIZE]\n",
    "        accuracy = sess.run(accuracy_operation, feed_dict={x: batch_x, y: batch_y})\n",
    "        total_accuracy += (accuracy * len(batch_x))\n",
    "    return total_accuracy / num_examples\n",
    "\n",
    "##############以降　追加のカスタムファンクション################################################\n",
    "def evaluatecustom(X_data, y_data):\n",
    "    sess = tf.get_default_session()\n",
    "    return  sess.run(accuracy_operation_custom  , feed_dict={x:X_data, y:y_data})\n",
    "\n",
    "def show_debug(X_data, y_data):\n",
    "    \n",
    "    sess = tf.get_default_session()\n",
    "    print(sess.run(cross_entropy  , feed_dict={x:X_data, y:y_data}) )\n",
    "    \n",
    "    sess = tf.get_default_session()\n",
    "    z_one_hot=sess.run(one_hot_y  , feed_dict={x:X_data, y:y_data}) \n",
    "    print('one_hot_y',z_one_hot,np.max(z_one_hot))\n",
    "    \n",
    "    sess = tf.get_default_session()\n",
    "    zlogits=sess.run(logits  , feed_dict={x:X_data, y:y_data})\n",
    "    print('logits',zlogits,np.max(zlogits) )\n",
    "    \n",
    "    sess = tf.get_default_session()\n",
    "    zargmax=sess.run(tf_argmax  , feed_dict={x:X_data, y:y_data}) \n",
    "    print(zargmax)\n",
    "    print('tf_argmax:logits',zargmax[0])\n",
    "    print('tf_argmax:one_hot',zargmax[1])\n",
    "    \n",
    "    sess = tf.get_default_session()\n",
    "    z_prediction=sess.run(correct_prediction  , feed_dict={x:X_data, y:y_data}) \n",
    "    print('correct_prediction',z_prediction)\n",
    "    return\n"
   ]
  },
  {
   "cell_type": "markdown",
   "metadata": {},
   "source": [
    "### Train, Validate and Test the Model"
   ]
  },
  {
   "cell_type": "markdown",
   "metadata": {},
   "source": [
    "A validation set can be used to assess how well the model is performing. A low accuracy on the training and validation\n",
    "sets imply underfitting. A high accuracy on the training set but low accuracy on the validation set implies overfitting."
   ]
  },
  {
   "cell_type": "code",
   "execution_count": null,
   "metadata": {},
   "outputs": [],
   "source": [
    "### Train your model here.\n",
    "### Calculate and report the accuracy on the training and validation set.\n",
    "### Once a final model architecture is selected, \n",
    "### the accuracy on the test set should be calculated and reported as well.\n",
    "### Feel free to use as many code cells as needed.\n",
    "\n",
    "#X_train訓練データ,Y_trainラベルデータを用いてモデルを作成\n",
    "X_train=x_train\n",
    "X_valid=x_valid\n",
    "X_test=x_test\n",
    "\n",
    "\n",
    "\n",
    "with tf.Session() as sess:\n",
    "    sess.run(tf.global_variables_initializer())\n",
    "    num_examples = len(X_train)\n",
    "    \n",
    "    print(\"Training...\")\n",
    "    print()\n",
    "    ##　EPOCHS=10（パターンが数字0〜9の10種類　→　1データずつ確認）\n",
    "    for i in range(EPOCHS):\n",
    "    \n",
    "        #順序依存の誤教示を排除するためシャッフルする\n",
    "        #　→　シャッフルにより　少数第２位水準で　実行のたびにモデル精度が変化する（シャッフル不要かも？）\n",
    "        X_train, y_train = shuffle(X_train, y_train)\n",
    "        \n",
    "        #55000点データをBATCH_SIZE分ずつ処理\n",
    "        for offset in range(0, num_examples, BATCH_SIZE):\n",
    "            end = offset + BATCH_SIZE\n",
    "            \n",
    "            #batchはX_train、Y_trainの抜き出し部分（実入力データ）\n",
    "            batch_x, batch_y = X_train[offset:end], y_train[offset:end]\n",
    "            \n",
    "            #先に定義したtraining_operation（Adam法）で入力データ[X_train,Y_train]を評価値に変換する\n",
    "            sess.run(training_operation, feed_dict={x: batch_x, y: batch_y})\n",
    "    \n",
    "        print(\"EPOCH {} ...\".format(i+1))\n",
    "\n",
    "    \"\"\" # evaluate は単なるデバッグのためだけの評価処理\n",
    "        #　　従ってevaluate は生成モデルの精度と全く無関係　\n",
    "    　　#  　評価データX_validation, y_validation　は評価目的だけの変数(無駄)\n",
    "        #　　　　　　→X_test, y_test だけあれば動作評価できる\n",
    "        \n",
    "        validation_accuracy = evaluate(X_validation, y_validation)\n",
    "        print(\"Validation Accuracy = {:.3f}\".format(validation_accuracy))\n",
    "        print()\n",
    "        \n",
    "        \n",
    "    \"\"\"        \n",
    "    saver.save(sess, './lenet')\n",
    "    print(\"Model saved\")\n",
    "  ##  tf.train.Saver.last_checkpoints\n",
    "\n",
    "\n",
    "\n",
    "#saver.save(sess, './lenet')実行により\n",
    "#①lenet.data-00000-of-00001②lenet.index③lenet.meta④checkpointの計４ファイルが記録される\n",
    "\n",
    "#　saver.save(sess, './lenet')で保存されたモデルデータがあれば、Train the Modelは、以降　再実行の必要ない！！\n",
    "#　→　jupyterで　本ステップは省略・次項へ　スキップ可能\n"
   ]
  },
  {
   "cell_type": "code",
   "execution_count": null,
   "metadata": {},
   "outputs": [],
   "source": [
    "#手法②　先に記録した定義モデルをrestoreでファイルからリロードする！\n",
    "import tensorflow as tf\n",
    "saver = tf.train.Saver() \n",
    "with tf.Session() as sess:\n",
    "    sess.run(tf.global_variables_initializer())\n",
    "    saver.restore(sess, './lenet')\n",
    "\n",
    "    #X_test, y_testに対してevaluateの実行    \n",
    "    test_accuracy = evaluate(X_test, y_test)\n",
    "    print(\"Test Accuracy = {:.3f}\".format(test_accuracy))\n",
    "    "
   ]
  },
  {
   "cell_type": "code",
   "execution_count": null,
   "metadata": {
    "collapsed": true
   },
   "outputs": [],
   "source": [
    "import numpy as np\n",
    "import matplotlib.pyplot as plt\n",
    "import tensorflow as tf\n",
    "saver = tf.train.Saver() \n",
    "\n",
    "\n",
    "with tf.Session() as sess:\n",
    "    OK=113\n",
    "    sess.run(tf.global_variables_initializer())\n",
    "    saver.restore(sess, './lenet')    \n",
    "    \n",
    "    X_try = np.array( [X_test[OK]])\n",
    "    y_try = np.array( [y_test[OK]])\n",
    "    print('lbl',y_try)\n",
    "    show_debug(X_try,y_try)\n",
    "    \n",
    "    OK=114 \n",
    "    sess.run(tf.global_variables_initializer())\n",
    "    saver.restore(sess, './lenet')    \n",
    "    X_try = np.array( [X_test[OK]])\n",
    "    y_try = np.array( [y_test[OK]])\n",
    "    print('lbl',y_try)\n",
    "    show_debug(X_try,y_try)\n",
    "\n",
    "    NG=115\n",
    "    sess.run(tf.global_variables_initializer())\n",
    "    saver.restore(sess, './lenet')    \n",
    "    X_try = np.array( [X_test[NG]])\n",
    "    y_try = np.array( [y_test[NG]])\n",
    "    print('lbl',y_try)\n",
    "    show_debug(X_try,y_try)"
   ]
  },
  {
   "cell_type": "code",
   "execution_count": null,
   "metadata": {
    "collapsed": true
   },
   "outputs": [],
   "source": [
    "import numpy as np\n",
    "import matplotlib.pyplot as plt\n",
    "import tensorflow as tf\n",
    "saver = tf.train.Saver() \n",
    "with tf.Session() as sess:\n",
    "#先に記録した定義モデルをrestoreでファイルからリロードする！\n",
    "    saver.restore(sess, './lenet')\n",
    "\n",
    "    for i in range(X_test.shape[0]) : \n",
    "        X_try = np.array( [X_test[i]])\n",
    "        y_try = np.array( [y_test[i]])\n",
    "\n",
    "        n=( evaluatecustom(X_try, y_try) )\n",
    "        #print(n)\n",
    "        if(n<0):\n",
    "            print('i',i)\n",
    "            print(X_test.shape,type(X_test))\n",
    "            print(X_try.shape)\n",
    "\n",
    "            print(y_test[i])\n",
    "            print(n)\n",
    "\n",
    "            plt.figure()\n",
    "            plt.imshow(X_try.squeeze())\n",
    "            \n",
    "            break"
   ]
  },
  {
   "cell_type": "markdown",
   "metadata": {},
   "source": [
    "---\n",
    "\n",
    "## Step 3: Test a Model on New Images\n",
    "\n",
    "To give yourself more insight into how your model is working, download at least five pictures of German traffic signs from the web and use your model to predict the traffic sign type.\n",
    "\n",
    "You may find `signnames.csv` useful as it contains mappings from the class id (integer) to the actual sign name."
   ]
  },
  {
   "cell_type": "markdown",
   "metadata": {},
   "source": [
    "### Load and Output the Images"
   ]
  },
  {
   "cell_type": "code",
   "execution_count": null,
   "metadata": {
    "collapsed": true
   },
   "outputs": [],
   "source": [
    "### Load the images and plot them here.\n",
    "### Feel free to use as many code cells as needed."
   ]
  },
  {
   "cell_type": "markdown",
   "metadata": {},
   "source": [
    "### Predict the Sign Type for Each Image"
   ]
  },
  {
   "cell_type": "code",
   "execution_count": null,
   "metadata": {
    "collapsed": true
   },
   "outputs": [],
   "source": [
    "### Run the predictions here and use the model to output the prediction for each image.\n",
    "### Make sure to pre-process the images with the same pre-processing pipeline used earlier.\n",
    "### Feel free to use as many code cells as needed."
   ]
  },
  {
   "cell_type": "markdown",
   "metadata": {},
   "source": [
    "### Analyze Performance"
   ]
  },
  {
   "cell_type": "code",
   "execution_count": null,
   "metadata": {
    "collapsed": true
   },
   "outputs": [],
   "source": [
    "### Calculate the accuracy for these 5 new images. \n",
    "### For example, if the model predicted 1 out of 5 signs correctly, it's 20% accurate on these new images."
   ]
  },
  {
   "cell_type": "markdown",
   "metadata": {},
   "source": [
    "### Output Top 5 Softmax Probabilities For Each Image Found on the Web"
   ]
  },
  {
   "cell_type": "markdown",
   "metadata": {},
   "source": [
    "For each of the new images, print out the model's softmax probabilities to show the **certainty** of the model's predictions (limit the output to the top 5 probabilities for each image). [`tf.nn.top_k`](https://www.tensorflow.org/versions/r0.12/api_docs/python/nn.html#top_k) could prove helpful here. \n",
    "\n",
    "The example below demonstrates how tf.nn.top_k can be used to find the top k predictions for each image.\n",
    "\n",
    "`tf.nn.top_k` will return the values and indices (class ids) of the top k predictions. So if k=3, for each sign, it'll return the 3 largest probabilities (out of a possible 43) and the correspoding class ids.\n",
    "\n",
    "Take this numpy array as an example. The values in the array represent predictions. The array contains softmax probabilities for five candidate images with six possible classes. `tf.nn.top_k` is used to choose the three classes with the highest probability:\n",
    "\n",
    "```\n",
    "# (5, 6) array\n",
    "a = np.array([[ 0.24879643,  0.07032244,  0.12641572,  0.34763842,  0.07893497,\n",
    "         0.12789202],\n",
    "       [ 0.28086119,  0.27569815,  0.08594638,  0.0178669 ,  0.18063401,\n",
    "         0.15899337],\n",
    "       [ 0.26076848,  0.23664738,  0.08020603,  0.07001922,  0.1134371 ,\n",
    "         0.23892179],\n",
    "       [ 0.11943333,  0.29198961,  0.02605103,  0.26234032,  0.1351348 ,\n",
    "         0.16505091],\n",
    "       [ 0.09561176,  0.34396535,  0.0643941 ,  0.16240774,  0.24206137,\n",
    "         0.09155967]])\n",
    "```\n",
    "\n",
    "Running it through `sess.run(tf.nn.top_k(tf.constant(a), k=3))` produces:\n",
    "\n",
    "```\n",
    "TopKV2(values=array([[ 0.34763842,  0.24879643,  0.12789202],\n",
    "       [ 0.28086119,  0.27569815,  0.18063401],\n",
    "       [ 0.26076848,  0.23892179,  0.23664738],\n",
    "       [ 0.29198961,  0.26234032,  0.16505091],\n",
    "       [ 0.34396535,  0.24206137,  0.16240774]]), indices=array([[3, 0, 5],\n",
    "       [0, 1, 4],\n",
    "       [0, 5, 1],\n",
    "       [1, 3, 5],\n",
    "       [1, 4, 3]], dtype=int32))\n",
    "```\n",
    "\n",
    "Looking just at the first row we get `[ 0.34763842,  0.24879643,  0.12789202]`, you can confirm these are the 3 largest probabilities in `a`. You'll also notice `[3, 0, 5]` are the corresponding indices."
   ]
  },
  {
   "cell_type": "code",
   "execution_count": null,
   "metadata": {
    "collapsed": true
   },
   "outputs": [],
   "source": [
    "### Print out the top five softmax probabilities for the predictions on the German traffic sign images found on the web. \n",
    "### Feel free to use as many code cells as needed."
   ]
  },
  {
   "cell_type": "markdown",
   "metadata": {},
   "source": [
    "### Project Writeup\n",
    "\n",
    "Once you have completed the code implementation, document your results in a project writeup using this [template](https://github.com/udacity/CarND-Traffic-Sign-Classifier-Project/blob/master/writeup_template.md) as a guide. The writeup can be in a markdown or pdf file. "
   ]
  },
  {
   "cell_type": "markdown",
   "metadata": {},
   "source": [
    "> **Note**: Once you have completed all of the code implementations and successfully answered each question above, you may finalize your work by exporting the iPython Notebook as an HTML document. You can do this by using the menu above and navigating to  \\n\",\n",
    "    \"**File -> Download as -> HTML (.html)**. Include the finished document along with this notebook as your submission."
   ]
  },
  {
   "cell_type": "markdown",
   "metadata": {},
   "source": [
    "---\n",
    "\n",
    "## Step 4 (Optional): Visualize the Neural Network's State with Test Images\n",
    "\n",
    " This Section is not required to complete but acts as an additional excersise for understaning the output of a neural network's weights. While neural networks can be a great learning device they are often referred to as a black box. We can understand what the weights of a neural network look like better by plotting their feature maps. After successfully training your neural network you can see what it's feature maps look like by plotting the output of the network's weight layers in response to a test stimuli image. From these plotted feature maps, it's possible to see what characteristics of an image the network finds interesting. For a sign, maybe the inner network feature maps react with high activation to the sign's boundary outline or to the contrast in the sign's painted symbol.\n",
    "\n",
    " Provided for you below is the function code that allows you to get the visualization output of any tensorflow weight layer you want. The inputs to the function should be a stimuli image, one used during training or a new one you provided, and then the tensorflow variable name that represents the layer's state during the training process, for instance if you wanted to see what the [LeNet lab's](https://classroom.udacity.com/nanodegrees/nd013/parts/fbf77062-5703-404e-b60c-95b78b2f3f9e/modules/6df7ae49-c61c-4bb2-a23e-6527e69209ec/lessons/601ae704-1035-4287-8b11-e2c2716217ad/concepts/d4aca031-508f-4e0b-b493-e7b706120f81) feature maps looked like for it's second convolutional layer you could enter conv2 as the tf_activation variable.\n",
    "\n",
    "For an example of what feature map outputs look like, check out NVIDIA's results in their paper [End-to-End Deep Learning for Self-Driving Cars](https://devblogs.nvidia.com/parallelforall/deep-learning-self-driving-cars/) in the section Visualization of internal CNN State. NVIDIA was able to show that their network's inner weights had high activations to road boundary lines by comparing feature maps from an image with a clear path to one without. Try experimenting with a similar test to show that your trained network's weights are looking for interesting features, whether it's looking at differences in feature maps from images with or without a sign, or even what feature maps look like in a trained network vs a completely untrained one on the same sign image.\n",
    "\n",
    "<figure>\n",
    " <img src=\"visualize_cnn.png\" width=\"380\" alt=\"Combined Image\" />\n",
    " <figcaption>\n",
    " <p></p> \n",
    " <p style=\"text-align: center;\"> Your output should look something like this (above)</p> \n",
    " </figcaption>\n",
    "</figure>\n",
    " <p></p> \n"
   ]
  },
  {
   "cell_type": "code",
   "execution_count": null,
   "metadata": {
    "collapsed": true
   },
   "outputs": [],
   "source": [
    "### Visualize your network's feature maps here.\n",
    "### Feel free to use as many code cells as needed.\n",
    "\n",
    "# image_input: the test image being fed into the network to produce the feature maps\n",
    "# tf_activation: should be a tf variable name used during your training procedure that represents the calculated state of a specific weight layer\n",
    "# activation_min/max: can be used to view the activation contrast in more detail, by default matplot sets min and max to the actual min and max values of the output\n",
    "# plt_num: used to plot out multiple different weight feature map sets on the same block, just extend the plt number for each new feature map entry\n",
    "\n",
    "def outputFeatureMap(image_input, tf_activation, activation_min=-1, activation_max=-1 ,plt_num=1):\n",
    "    # Here make sure to preprocess your image_input in a way your network expects\n",
    "    # with size, normalization, ect if needed\n",
    "    # image_input =\n",
    "    # Note: x should be the same name as your network's tensorflow data placeholder variable\n",
    "    # If you get an error tf_activation is not defined it may be having trouble accessing the variable from inside a function\n",
    "    activation = tf_activation.eval(session=sess,feed_dict={x : image_input})\n",
    "    featuremaps = activation.shape[3]\n",
    "    plt.figure(plt_num, figsize=(15,15))\n",
    "    for featuremap in range(featuremaps):\n",
    "        plt.subplot(6,8, featuremap+1) # sets the number of feature maps to show on each row and column\n",
    "        plt.title('FeatureMap ' + str(featuremap)) # displays the feature map number\n",
    "        if activation_min != -1 & activation_max != -1:\n",
    "            plt.imshow(activation[0,:,:, featuremap], interpolation=\"nearest\", vmin =activation_min, vmax=activation_max, cmap=\"gray\")\n",
    "        elif activation_max != -1:\n",
    "            plt.imshow(activation[0,:,:, featuremap], interpolation=\"nearest\", vmax=activation_max, cmap=\"gray\")\n",
    "        elif activation_min !=-1:\n",
    "            plt.imshow(activation[0,:,:, featuremap], interpolation=\"nearest\", vmin=activation_min, cmap=\"gray\")\n",
    "        else:\n",
    "            plt.imshow(activation[0,:,:, featuremap], interpolation=\"nearest\", cmap=\"gray\")"
   ]
  },
  {
   "cell_type": "code",
   "execution_count": null,
   "metadata": {
    "collapsed": true
   },
   "outputs": [],
   "source": []
  }
 ],
 "metadata": {
  "anaconda-cloud": {},
  "kernelspec": {
   "display_name": "Python 3",
   "language": "python",
   "name": "python3"
  },
  "language_info": {
   "codemirror_mode": {
    "name": "ipython",
    "version": 3
   },
   "file_extension": ".py",
   "mimetype": "text/x-python",
   "name": "python",
   "nbconvert_exporter": "python",
   "pygments_lexer": "ipython3",
   "version": "3.6.3"
  },
  "widgets": {
   "state": {},
   "version": "1.1.2"
  }
 },
 "nbformat": 4,
 "nbformat_minor": 1
}
