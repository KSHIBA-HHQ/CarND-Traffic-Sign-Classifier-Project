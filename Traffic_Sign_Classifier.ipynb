{
 "cells": [
  {
   "cell_type": "markdown",
   "metadata": {},
   "source": [
    "# Self-Driving Car Engineer Nanodegree\n",
    "\n",
    "## Deep Learning\n",
    "\n",
    "## Project: Build a Traffic Sign Recognition Classifier\n",
    "\n",
    "In this notebook, a template is provided for you to implement your functionality in stages, which is required to successfully complete this project. If additional code is required that cannot be included in the notebook, be sure that the Python code is successfully imported and included in your submission if necessary. \n",
    "\n",
    "> **Note**: Once you have completed all of the code implementations, you need to finalize your work by exporting the iPython Notebook as an HTML document. Before exporting the notebook to html, all of the code cells need to have been run so that reviewers can see the final implementation and output. You can then export the notebook by using the menu above and navigating to  \\n\",\n",
    "    \"**File -> Download as -> HTML (.html)**. Include the finished document along with this notebook as your submission. \n",
    "\n",
    "In addition to implementing code, there is a writeup to complete. The writeup should be completed in a separate file, which can be either a markdown file or a pdf document. There is a [write up template](https://github.com/udacity/CarND-Traffic-Sign-Classifier-Project/blob/master/writeup_template.md) that can be used to guide the writing process. Completing the code template and writeup template will cover all of the [rubric points](https://review.udacity.com/#!/rubrics/481/view) for this project.\n",
    "\n",
    "The [rubric](https://review.udacity.com/#!/rubrics/481/view) contains \"Stand Out Suggestions\" for enhancing the project beyond the minimum requirements. The stand out suggestions are optional. If you decide to pursue the \"stand out suggestions\", you can include the code in this Ipython notebook and also discuss the results in the writeup file.\n",
    "\n",
    "\n",
    ">**Note:** Code and Markdown cells can be executed using the **Shift + Enter** keyboard shortcut. In addition, Markdown cells can be edited by typically double-clicking the cell to enter edit mode."
   ]
  },
  {
   "cell_type": "markdown",
   "metadata": {},
   "source": [
    "---\n",
    "## Step 0: Load The Data"
   ]
  },
  {
   "cell_type": "markdown",
   "metadata": {},
   "source": [
    "---\n",
    "\n",
    "## Step 1: Dataset Summary & Exploration\n",
    "\n",
    "The pickled data is a dictionary with 4 key/value pairs:\n",
    "\n",
    "- `'features'` is a 4D array containing raw pixel data of the traffic sign images, (num examples, width, height, channels).\n",
    "- `'labels'` is a 1D array containing the label/class id of the traffic sign. The file `signnames.csv` contains id -> name mappings for each id.\n",
    "- `'sizes'` is a list containing tuples, (width, height) representing the original width and height the image.\n",
    "- `'coords'` is a list containing tuples, (x1, y1, x2, y2) representing coordinates of a bounding box around the sign in the image. **THESE COORDINATES ASSUME THE ORIGINAL IMAGE. THE PICKLED DATA CONTAINS RESIZED VERSIONS (32 by 32) OF THESE IMAGES**\n",
    "\n",
    "Complete the basic data summary below. Use python, numpy and/or pandas methods to calculate the data summary rather than hard coding the results. For example, the [pandas shape method](http://pandas.pydata.org/pandas-docs/stable/generated/pandas.DataFrame.shape.html) might be useful for calculating some of the summary results. "
   ]
  },
  {
   "cell_type": "code",
   "execution_count": 1,
   "metadata": {},
   "outputs": [
    {
     "name": "stdout",
     "output_type": "stream",
     "text": [
      "['', '/home/kshiba/conda/lib/python3.6/site-packages', '/home/kshiba/catkin_ws/devel/lib/python2.7/dist-packages', '/opt/ros/indigo/lib/python2.7/dist-packages', '/home/kshiba/conda/envs/IntroToTensorFlow/lib/python36.zip', '/home/kshiba/conda/envs/IntroToTensorFlow/lib/python3.6', '/home/kshiba/conda/envs/IntroToTensorFlow/lib/python3.6/lib-dynload', '/home/kshiba/conda/envs/IntroToTensorFlow/lib/python3.6/site-packages', '/home/kshiba/conda/envs/IntroToTensorFlow/lib/python3.6/site-packages/IPython/extensions', '/home/kshiba/.ipython']\n",
      "python_version 3.6.3\n"
     ]
    }
   ],
   "source": [
    "# coding: UTF-8\n",
    "import os\n",
    "print(os.sys.path)\n",
    "\n",
    "# Load pickled data\n",
    "\n",
    "import platform\n",
    "print('python_version',platform.python_version())\n",
    "\n",
    "# Load pickled data\n",
    "import pickle\n",
    "\n",
    "\n",
    "# TODO: Fill this in based on where you saved the training and testing data\n",
    "\n",
    "training_file = './train.p'\n",
    "validation_file='./valid.p'\n",
    "testing_file =  './test.p'\n",
    "\n",
    "with open(training_file, mode='rb') as f:\n",
    "    train = pickle.load(f)\n",
    "with open(validation_file, mode='rb') as f:\n",
    "    valid = pickle.load(f)\n",
    "with open(testing_file, mode='rb') as f:\n",
    "    test = pickle.load(f)\n",
    "    \n",
    "X_train, y_train = train['features'], train['labels']\n",
    "X_valid, y_valid = valid['features'], valid['labels']\n",
    "X_test, y_test = test['features'], test['labels']\n"
   ]
  },
  {
   "cell_type": "code",
   "execution_count": 2,
   "metadata": {},
   "outputs": [
    {
     "name": "stdout",
     "output_type": "stream",
     "text": [
      "cv2.version 3.1.0\n",
      "X_train[0].shape (32, 32, 3)\n",
      "X_train.shape (34799, 32, 32, 3)\n",
      " len(X_train.shape) 4\n",
      "################\n",
      "X_train.shape[ 0 ] 34799\n",
      "X_train.shape[ 1 ] 32\n",
      "X_train.shape[ 2 ] 32\n",
      "X_train.shape[ 3 ] 3\n"
     ]
    },
    {
     "data": {
      "image/png": "[encoded data removed]",
      "text/plain": [
       "<matplotlib.figure.Figure at 0x7f5e340c1550>"
      ]
     },
     "metadata": {},
     "output_type": "display_data"
    },
    {
     "data": {
      "image/png": "[encoded data removed]",
      "text/plain": [
       "<matplotlib.figure.Figure at 0x7f5e11a44c88>"
      ]
     },
     "metadata": {},
     "output_type": "display_data"
    },
    {
     "name": "stdout",
     "output_type": "stream",
     "text": [
      "(32, 32, 3)\n",
      "tapple\n",
      "################\n",
      "dict_keys(['coords', 'labels', 'features', 'sizes'])\n",
      "coords\n",
      "features\n",
      "labels\n",
      "sizes\n",
      "dict_keys(['coords', 'labels', 'features', 'sizes'])\n",
      "dict_keys(['sizes', 'coords', 'features', 'labels'])\n",
      "################\n",
      "(34799, 32, 32, 3) (4410, 32, 32, 3) (12630, 32, 32, 3)\n",
      "(34799,) (4410,) (12630,)\n",
      "36 4\n",
      "Go straight or right & Speed limit (70km/h)\n"
     ]
    }
   ],
   "source": [
    "\n",
    "import pickle\n",
    "import matplotlib.pyplot as plt\n",
    "\n",
    "import sys\n",
    "##sys.path.append('/usr/local/lib/python2.7/site-packages')\n",
    "##sys.path.append('/home/kshiba/conda/lib/python3.6/site-packages')\n",
    "import cv2\n",
    "print('cv2.version',cv2.__version__)\n",
    "\n",
    "#print(len(train))#print(train)\n",
    "#print(len(valid))#print(valid)\n",
    "#print(len(test))#print(test)\n",
    "#print(len(train['features']) )\n",
    "\n",
    "#print(X_train[:,:,:,:])\n",
    "#X_train[0,:,:,:].shape[2]\n",
    "\n",
    "print('X_train[0].shape',X_train[0].shape)\n",
    "print('X_train.shape' ,X_train.shape )\n",
    "print(' len(X_train.shape)', len(X_train.shape))\n",
    "\n",
    "print('################')        \n",
    "for i in range(len(X_train.shape) ):\n",
    "    print('X_train.shape[',i,']',X_train.shape[i] )\n",
    "\n",
    "#print(X_train[0,:,:,0])\n",
    "plt.imshow(X_train[1000,:,:,2])\n",
    "plt.show()\n",
    "\n",
    "plt.imshow(X_valid[1000,:,:,:])\n",
    "plt.show()\n",
    "\n",
    "\n",
    "\n",
    "print(X_train.shape[1:4])\n",
    "if  X_train.shape[1:3]==(32,32):\n",
    "     print('tapple')\n",
    "else:\n",
    "     print('other')\n",
    "print('################')        \n",
    "print(train.keys())\n",
    "for i in range(len(train.keys())):\n",
    "    print(sorted(train.keys())[i])\n",
    "    \n",
    "print(valid.keys())\n",
    "print(test.keys())\n",
    "print('################')        \n",
    "\n",
    "\n",
    "print(X_train.shape,X_valid.shape,X_test.shape)\n",
    "print(y_train.shape,y_valid.shape,y_test.shape)\n",
    "print(y_train[1000],y_valid[1000],)\n",
    "\n",
    "xlist=[]\n",
    "import csv\n",
    "with open('signnames.csv', 'r') as f:\n",
    "    reader = csv.reader(f) # リストで読まれる\n",
    "    header = next(reader)  # ヘッダーを読み飛ばしたい時\n",
    "\n",
    "    for row in reader:\n",
    "        xlist.append(row)\n",
    "        #print(row[0],row[1])\n",
    "        #print(row)\n",
    "        \n",
    "print(xlist[y_train[1000]][1],'&',xlist[y_valid[1000]][1])"
   ]
  },
  {
   "cell_type": "markdown",
   "metadata": {},
   "source": [
    "### Provide a Basic Summary of the Data Set Using Python, Numpy and/or Pandas"
   ]
  },
  {
   "cell_type": "code",
   "execution_count": 3,
   "metadata": {},
   "outputs": [
    {
     "name": "stdout",
     "output_type": "stream",
     "text": [
      "Number of training examples = 34799\n",
      "Number of testing examples = 12630\n",
      "Image data shape = (32, 32, 3)\n",
      "Number of classes = 43\n"
     ]
    }
   ],
   "source": [
    "import numpy as np\n",
    "### Replace each question mark with the appropriate value. \n",
    "### Use python, pandas or numpy methods rather than hard coding the results\n",
    "\n",
    "# TODO: Number of training examples\n",
    "n_train = X_train.shape[0]\n",
    "\n",
    "# TODO: Number of validation examples\n",
    "n_validation = X_valid.shape[0]\n",
    "\n",
    "# TODO: Number of testing examples.\n",
    "n_test = X_test.shape[0]\n",
    "\n",
    "# TODO: What's the shape of an traffic sign image?\n",
    "image_shape = X_test.shape[1:4]\n",
    "\n",
    "# TODO: How many unique classes/labels there are in the dataset.\n",
    "n_classes = len(np.unique(y_train))    #label'num = class's num\n",
    "\n",
    "print(\"Number of training examples =\", n_train)\n",
    "print(\"Number of testing examples =\", n_test)\n",
    "print(\"Image data shape =\", image_shape)\n",
    "print(\"Number of classes =\", n_classes)"
   ]
  },
  {
   "cell_type": "markdown",
   "metadata": {},
   "source": [
    "### Include an exploratory visualization of the dataset"
   ]
  },
  {
   "cell_type": "markdown",
   "metadata": {},
   "source": [
    "Visualize the German Traffic Signs Dataset using the pickled file(s). This is open ended, suggestions include: plotting traffic sign images, plotting the count of each sign, etc. \n",
    "\n",
    "The [Matplotlib](http://matplotlib.org/) [examples](http://matplotlib.org/examples/index.html) and [gallery](http://matplotlib.org/gallery.html) pages are a great resource for doing visualizations in Python.\n",
    "\n",
    "**NOTE:** It's recommended you start with something simple first. If you wish to do more, come back to it after you've completed the rest of the sections. It can be interesting to look at the distribution of classes in the training, validation and test set. Is the distribution the same? Are there more examples of some classes than others?"
   ]
  },
  {
   "cell_type": "code",
   "execution_count": 4,
   "metadata": {},
   "outputs": [
    {
     "name": "stdout",
     "output_type": "stream",
     "text": [
      "29624 y_train[index],xlist[y_train[index]------- 14 ['14', 'Stop']\n",
      "X_train[index] <class 'numpy.ndarray'>\n",
      "pilImg <class 'PIL.Image.Image'>\n",
      "(32, 32, 3)\n",
      "(32, 32)\n"
     ]
    },
    {
     "data": {
      "text/plain": [
       "<matplotlib.image.AxesImage at 0x7f5df8345b70>"
      ]
     },
     "execution_count": 4,
     "metadata": {},
     "output_type": "execute_result"
    },
    {
     "data": {
      "image/png": "[encoded data removed]",
      "text/plain": [
       "<matplotlib.figure.Figure at 0x7f5e163816a0>"
      ]
     },
     "metadata": {},
     "output_type": "display_data"
    },
    {
     "data": {
      "image/png": "[encoded data removed]",
      "text/plain": [
       "<matplotlib.figure.Figure at 0x7f5df849c278>"
      ]
     },
     "metadata": {},
     "output_type": "display_data"
    },
    {
     "data": {
      "image/png": "[encoded data removed]",
      "text/plain": [
       "<matplotlib.figure.Figure at 0x7f5df8454f28>"
      ]
     },
     "metadata": {},
     "output_type": "display_data"
    },
    {
     "data": {
      "image/png": "[encoded data removed]",
      "text/plain": [
       "<matplotlib.figure.Figure at 0x7f5df8418c18>"
      ]
     },
     "metadata": {},
     "output_type": "display_data"
    },
    {
     "data": {
      "image/png": "[encoded data removed]",
      "text/plain": [
       "<matplotlib.figure.Figure at 0x7f5df842b940>"
      ]
     },
     "metadata": {},
     "output_type": "display_data"
    },
    {
     "data": {
      "image/png": "[encoded data removed]",
      "text/plain": [
       "<matplotlib.figure.Figure at 0x7f5df838f518>"
      ]
     },
     "metadata": {},
     "output_type": "display_data"
    }
   ],
   "source": [
    "# 各データの内訳確認\n",
    "### Data exploration visualization code goes here.\n",
    "### Feel free to use as many code cells as needed.\n",
    "import matplotlib.pyplot as plt\n",
    "# Visualizations will be shown in the notebook.\n",
    "%matplotlib inline\n",
    "\n",
    "\n",
    "import random\n",
    "index = random.randint(0, len(X_train))\n",
    "image = X_train[index].squeeze()\n",
    "\n",
    "plt.figure(figsize=(2,2))\n",
    "plt.imshow(image)  ##plt.imshow(image, cmap=\"gray\")\n",
    "\n",
    "gray = cv2.cvtColor(X_train[index], cv2.COLOR_BGR2GRAY)\n",
    "plt.figure(figsize=(1,2))\n",
    "plt.imshow(gray, cmap=\"gray\")\n",
    "\n",
    "\n",
    "\n",
    "from PIL import Image\n",
    "import numpy as np\n",
    "\n",
    "print(index,'y_train[index],xlist[y_train[index]-------',y_train[index],xlist[y_train[index]])\n",
    "\n",
    "print('X_train[index]',type(X_train[index]) )\n",
    "pilImg = Image.fromarray(np.uint8(X_train[index]))\n",
    "\n",
    "plt.figure(figsize=(1,1))\n",
    "plt.imshow(pilImg)\n",
    "print('pilImg',type(pilImg) )\n",
    "\n",
    "\n",
    "plt.figure(figsize=(1,1))\n",
    "plt.imshow(X_train[index])\n",
    "print(X_train[index].shape)\n",
    "gray2 = cv2.cvtColor(X_train[index], cv2.COLOR_BGR2GRAY)\n",
    "plt.figure(figsize=(1,1))\n",
    "plt.imshow(gray)\n",
    "print(gray.shape)\n",
    "\n",
    "gray= cv2.bilateralFilter(gray,9,55,55)\n",
    "        \n",
    "    \n",
    "plt.figure(figsize=(1,1))\n",
    "plt.imshow(gray,cmap='gray')\n",
    "\n"
   ]
  },
  {
   "cell_type": "markdown",
   "metadata": {},
   "source": [
    "----\n",
    "\n",
    "## Step 2: Design and Test a Model Architecture\n",
    "\n",
    "Design and implement a deep learning model that learns to recognize traffic signs. Train and test your model on the [German Traffic Sign Dataset](http://benchmark.ini.rub.de/?section=gtsrb&subsection=dataset).\n",
    "\n",
    "The LeNet-5 implementation shown in the [classroom](https://classroom.udacity.com/nanodegrees/nd013/parts/fbf77062-5703-404e-b60c-95b78b2f3f9e/modules/6df7ae49-c61c-4bb2-a23e-6527e69209ec/lessons/601ae704-1035-4287-8b11-e2c2716217ad/concepts/d4aca031-508f-4e0b-b493-e7b706120f81) at the end of the CNN lesson is a solid starting point. You'll have to change the number of classes and possibly the preprocessing, but aside from that it's plug and play! \n",
    "\n",
    "With the LeNet-5 solution from the lecture, you should expect a validation set accuracy of about 0.89. To meet specifications, the validation set accuracy will need to be at least 0.93. It is possible to get an even higher accuracy, but 0.93 is the minimum for a successful project submission. \n",
    "\n",
    "There are various aspects to consider when thinking about this problem:\n",
    "\n",
    "- Neural network architecture (is the network over or underfitting?)\n",
    "- Play around preprocessing techniques (normalization, rgb to grayscale, etc)\n",
    "- Number of examples per label (some have more than others).\n",
    "- Generate fake data.\n",
    "\n",
    "Here is an example of a [published baseline model on this problem](http://yann.lecun.com/exdb/publis/pdf/sermanet-ijcnn-11.pdf). It's not required to be familiar with the approach used in the paper but, it's good practice to try to read papers like these."
   ]
  },
  {
   "cell_type": "markdown",
   "metadata": {},
   "source": [
    "### Pre-process the Data Set (normalization, grayscale, etc.)"
   ]
  },
  {
   "cell_type": "markdown",
   "metadata": {},
   "source": [
    "Minimally, the image data should be normalized so that the data has mean zero and equal variance. For image data, `(pixel - 128)/ 128` is a quick way to approximately normalize the data and can be used in this project. \n",
    "\n",
    "Other pre-processing steps are optional. You can try different techniques to see if it improves performance. \n",
    "\n",
    "Use the code cell (or multiple code cells, if necessary) to implement the first step of your project."
   ]
  },
  {
   "cell_type": "code",
   "execution_count": 5,
   "metadata": {
    "collapsed": true
   },
   "outputs": [],
   "source": [
    "\n",
    "import numpy as np\n",
    "def zscore(x, axis = None):\n",
    "####　データから平均値をとって標準偏差で割ると正規化    \n",
    "    xmean = x.mean(axis=axis, keepdims=True)\n",
    "    xstd  = np.std(x, axis=axis, keepdims=True)\n",
    "    zscore = (x-xmean)/xstd\n",
    "    return zscore\n",
    "def min_max(x, axis=None):\n",
    "####　データからを最大最小差で処理　→　階調補正\n",
    "    min = x.min(axis=axis, keepdims=True)\n",
    "    max = x.max(axis=axis, keepdims=True)\n",
    "    result = (x-min)/(max-min)\n",
    "    return result\n",
    "###https://deepage.net/features/numpy-normalize.html"
   ]
  },
  {
   "cell_type": "code",
   "execution_count": 96,
   "metadata": {},
   "outputs": [
    {
     "name": "stdout",
     "output_type": "stream",
     "text": [
      "(32, 32, 3) <class 'numpy.ndarray'>\n",
      "(32, 32, 3) <class 'numpy.ndarray'>\n",
      "(32, 32, 3) <class 'numpy.ndarray'>\n",
      "D (32, 32, 3)\n",
      "D (2, 32, 32, 3)\n",
      "D (3, 32, 32, 3)\n",
      "<class 'list'>\n",
      "<class 'numpy.ndarray'>\n",
      "x_train (10, 32, 32, 3) <class 'numpy.ndarray'>\n"
     ]
    },
    {
     "data": {
      "text/plain": [
       "<matplotlib.image.AxesImage at 0x7f5df83f93c8>"
      ]
     },
     "execution_count": 96,
     "metadata": {},
     "output_type": "execute_result"
    },
    {
     "data": {
      "image/png": "[encoded data removed]",
      "text/plain": [
       "<matplotlib.figure.Figure at 0x7f5df8291a20>"
      ]
     },
     "metadata": {},
     "output_type": "display_data"
    }
   ],
   "source": [
    "A=X_train[0]\n",
    "B=X_train[1]\n",
    "C=X_train[2]\n",
    "\n",
    "print(A.shape,type(A))\n",
    "print(B.shape,type(B))\n",
    "print(C.shape,type(C))\n",
    "D= A\n",
    "print('D',D.shape)\n",
    "D= np.array([D,B])\n",
    "print('D',D.shape)\n",
    "D= np.array([A,B,C])\n",
    "print('D',D.shape)\n",
    "\n",
    "##############################################\n",
    "res=10\n",
    "x_train = []\n",
    "for row in range(res):\n",
    "    x_train_temp =A\n",
    "    #img_path = img_dir + row['id'] + '.png'\n",
    "    #x_train_temp = cv2.imread(img_path)\n",
    "    # x_train = np.append(x_train,x_train_temp,axis=0)\n",
    "    x_train.append(x_train_temp)\n",
    "\n",
    "print(type(x_train))    \n",
    "x_train = np.asarray(x_train) ##list to ndArray\n",
    "print(type(x_train))  \n",
    "\n",
    "print('x_train',x_train.shape,type(x_train))\n",
    "\n",
    "import matplotlib.pyplot as plt\n",
    "# Visualizations will be shown in the notebook.\n",
    "%matplotlib inline\n",
    "plt.figure(figsize=(1,1))\n",
    "plt.imshow(x_train[9])\n",
    "#############################"
   ]
  },
  {
   "cell_type": "code",
   "execution_count": null,
   "metadata": {},
   "outputs": [
    {
     "name": "stdout",
     "output_type": "stream",
     "text": [
      "<class 'numpy.ndarray'>\n",
      "loop num total 34799\n",
      "x_temp <class 'numpy.ndarray'> (1000, 32, 32)\n",
      "conv 1000 rate 0.0287364579441938\n",
      "x_temp <class 'numpy.ndarray'> (1000, 32, 32)\n",
      "conv 2000 rate 0.0574729158883876\n",
      "x_temp <class 'numpy.ndarray'> (1000, 32, 32)\n",
      "conv 3000 rate 0.0862093738325814\n",
      "x_temp <class 'numpy.ndarray'> (1000, 32, 32)\n",
      "conv 4000 rate 0.1149458317767752\n",
      "x_temp <class 'numpy.ndarray'> (1000, 32, 32)\n",
      "conv 5000 rate 0.143682289720969\n",
      "x_temp <class 'numpy.ndarray'> (1000, 32, 32)\n",
      "conv 6000 rate 0.1724187476651628\n",
      "x_temp <class 'numpy.ndarray'> (1000, 32, 32)\n",
      "conv 7000 rate 0.2011552056093566\n",
      "x_temp <class 'numpy.ndarray'> (1000, 32, 32)\n",
      "conv 8000 rate 0.2298916635535504\n",
      "x_temp <class 'numpy.ndarray'> (1000, 32, 32)\n",
      "conv 9000 rate 0.25862812149774417\n",
      "x_temp <class 'numpy.ndarray'> (1000, 32, 32)\n",
      "conv 10000 rate 0.287364579441938\n",
      "x_temp <class 'numpy.ndarray'> (1000, 32, 32)\n",
      "conv 11000 rate 0.31610103738613177\n",
      "x_temp <class 'numpy.ndarray'> (1000, 32, 32)\n",
      "conv 12000 rate 0.3448374953303256\n",
      "x_temp <class 'numpy.ndarray'> (1000, 32, 32)\n",
      "conv 13000 rate 0.37357395327451937\n",
      "x_temp <class 'numpy.ndarray'> (1000, 32, 32)\n",
      "conv 14000 rate 0.4023104112187132\n",
      "x_temp <class 'numpy.ndarray'> (1000, 32, 32)\n",
      "conv 15000 rate 0.43104686916290696\n",
      "x_temp <class 'numpy.ndarray'> (1000, 32, 32)\n",
      "conv 16000 rate 0.4597833271071008\n",
      "x_temp <class 'numpy.ndarray'> (1000, 32, 32)\n",
      "conv 17000 rate 0.48851978505129456\n",
      "x_temp <class 'numpy.ndarray'> (1000, 32, 32)\n",
      "conv 18000 rate 0.5172562429954883\n",
      "x_temp <class 'numpy.ndarray'> (1000, 32, 32)\n",
      "conv 19000 rate 0.5459927009396822\n"
     ]
    }
   ],
   "source": [
    "### Preprocess the data here. It is required to normalize the data. Other preprocessing steps could include \n",
    "### converting to grayscale, etc.\n",
    "### Feel free to use as many code cells as needed.\n",
    "import matplotlib.pyplot as plt\n",
    "from PIL import Image\n",
    "import numpy as np\n",
    "import cv2\n",
    "\n",
    "#X_train= train['features']\n",
    "#X_valid = valid['features']\n",
    "#X_test = test['features']\n",
    "\n",
    "training_t_file = './train_t.p'\n",
    "validation_t_file='./valid_t.p'\n",
    "testing_t_file =  './test_t.p'\n",
    "\n",
    "##http://blog.amedama.jp/entry/2015/12/05/132520\n",
    "import io\n",
    "file =np.array([ io.BytesIO() ])\n",
    "\n",
    "################################################\n",
    "print(type(X_train))\n",
    "x_temp =[]\n",
    "\n",
    "total=X_train.shape[0]\n",
    "print(\"loop num total\",total)\n",
    "for i in range( total) :\n",
    "    gray= cv2.cvtColor(X_train[i], cv2.COLOR_RGB2GRAY)\n",
    "    gray= cv2.bilateralFilter(gray,9,55,55)\n",
    "            \n",
    "    gray = min_max(gray)\n",
    "    gray = zscore(gray)\n",
    "    x_temp.append(gray) \n",
    "    next=i+1\n",
    "    if((next%1000)==0):\n",
    "        ###ndarrayではなく　一旦listで保存\n",
    "        tmp=np.asarray(x_temp)\n",
    "        print('x_temp',type(tmp),tmp.shape)\n",
    "        pickle.dump(x_temp, file[int(i/1000)])\n",
    "        print(\"conv\",next,\"rate\",float(next)/float(total))\n",
    "        file=np.append(file,io.BytesIO())\n",
    "        \n",
    "        x_temp =  []\n",
    "    if(next==total):\n",
    "        pickle.dump(x_temp, file[int(i/1000)])\n",
    "\n"
   ]
  },
  {
   "cell_type": "code",
   "execution_count": 111,
   "metadata": {},
   "outputs": [
    {
     "name": "stdout",
     "output_type": "stream",
     "text": [
      "(35,)\n",
      "<class 'list'>\n",
      "<class 'numpy.ndarray'>\n",
      "(35,)\n",
      "complete\n"
     ]
    }
   ],
   "source": [
    "   \n",
    "num=file.shape\n",
    "print(num)\n",
    "\n",
    "x_temp =  []\n",
    "for i in range(num[0]) :\n",
    "    file[i].seek(0)\n",
    "    x_temp.append(pickle.load(file[i]))\n",
    "\n",
    "print(type(x_temp))    \n",
    "x_temp = np.asarray(x_temp) ##list to ndArray\n",
    "print(type(x_temp))  \n",
    "print(x_temp.shape)\n",
    "\n",
    "with open(training_t_file, mode='wb') as f:\n",
    "    pickle.dump(x_temp, f)\n",
    "    print(\"complete\");    "
   ]
  },
  {
   "cell_type": "code",
   "execution_count": 102,
   "metadata": {},
   "outputs": [
    {
     "data": {
      "text/plain": [
       "\"\\nwith open(training_t_file, mode='rb') as f:\\n    X_train = pickle.load(f)\\nwith open(validation_t_file, mode='rb') as f:\\n    X_valid = pickle.load(f)\\nwith open(testing_t_file, mode='rb') as f:\\n    X_test = pickle.load(f)\\n\""
      ]
     },
     "execution_count": 102,
     "metadata": {},
     "output_type": "execute_result"
    }
   ],
   "source": [
    "\"\"\"\n",
    "with open(training_t_file, mode='rb') as f:\n",
    "    X_train = pickle.load(f)\n",
    "with open(validation_t_file, mode='rb') as f:\n",
    "    X_valid = pickle.load(f)\n",
    "with open(testing_t_file, mode='rb') as f:\n",
    "    X_test = pickle.load(f)\n",
    "\"\"\""
   ]
  },
  {
   "cell_type": "markdown",
   "metadata": {},
   "source": [
    "### Model Architecture"
   ]
  },
  {
   "cell_type": "code",
   "execution_count": 103,
   "metadata": {
    "collapsed": true
   },
   "outputs": [],
   "source": [
    "### Define your architecture here.\n",
    "### Feel free to use as many code cells as needed.\n",
    "\n"
   ]
  },
  {
   "cell_type": "markdown",
   "metadata": {},
   "source": [
    "### Train, Validate and Test the Model"
   ]
  },
  {
   "cell_type": "markdown",
   "metadata": {},
   "source": [
    "A validation set can be used to assess how well the model is performing. A low accuracy on the training and validation\n",
    "sets imply underfitting. A high accuracy on the training set but low accuracy on the validation set implies overfitting."
   ]
  },
  {
   "cell_type": "code",
   "execution_count": 104,
   "metadata": {
    "collapsed": true
   },
   "outputs": [],
   "source": [
    "### Train your model here.\n",
    "### Calculate and report the accuracy on the training and validation set.\n",
    "### Once a final model architecture is selected, \n",
    "### the accuracy on the test set should be calculated and reported as well.\n",
    "### Feel free to use as many code cells as needed."
   ]
  },
  {
   "cell_type": "markdown",
   "metadata": {},
   "source": [
    "---\n",
    "\n",
    "## Step 3: Test a Model on New Images\n",
    "\n",
    "To give yourself more insight into how your model is working, download at least five pictures of German traffic signs from the web and use your model to predict the traffic sign type.\n",
    "\n",
    "You may find `signnames.csv` useful as it contains mappings from the class id (integer) to the actual sign name."
   ]
  },
  {
   "cell_type": "markdown",
   "metadata": {},
   "source": [
    "### Load and Output the Images"
   ]
  },
  {
   "cell_type": "code",
   "execution_count": 105,
   "metadata": {
    "collapsed": true
   },
   "outputs": [],
   "source": [
    "### Load the images and plot them here.\n",
    "### Feel free to use as many code cells as needed."
   ]
  },
  {
   "cell_type": "markdown",
   "metadata": {},
   "source": [
    "### Predict the Sign Type for Each Image"
   ]
  },
  {
   "cell_type": "code",
   "execution_count": 106,
   "metadata": {
    "collapsed": true
   },
   "outputs": [],
   "source": [
    "### Run the predictions here and use the model to output the prediction for each image.\n",
    "### Make sure to pre-process the images with the same pre-processing pipeline used earlier.\n",
    "### Feel free to use as many code cells as needed."
   ]
  },
  {
   "cell_type": "markdown",
   "metadata": {},
   "source": [
    "### Analyze Performance"
   ]
  },
  {
   "cell_type": "code",
   "execution_count": 107,
   "metadata": {
    "collapsed": true
   },
   "outputs": [],
   "source": [
    "### Calculate the accuracy for these 5 new images. \n",
    "### For example, if the model predicted 1 out of 5 signs correctly, it's 20% accurate on these new images."
   ]
  },
  {
   "cell_type": "markdown",
   "metadata": {},
   "source": [
    "### Output Top 5 Softmax Probabilities For Each Image Found on the Web"
   ]
  },
  {
   "cell_type": "markdown",
   "metadata": {},
   "source": [
    "For each of the new images, print out the model's softmax probabilities to show the **certainty** of the model's predictions (limit the output to the top 5 probabilities for each image). [`tf.nn.top_k`](https://www.tensorflow.org/versions/r0.12/api_docs/python/nn.html#top_k) could prove helpful here. \n",
    "\n",
    "The example below demonstrates how tf.nn.top_k can be used to find the top k predictions for each image.\n",
    "\n",
    "`tf.nn.top_k` will return the values and indices (class ids) of the top k predictions. So if k=3, for each sign, it'll return the 3 largest probabilities (out of a possible 43) and the correspoding class ids.\n",
    "\n",
    "Take this numpy array as an example. The values in the array represent predictions. The array contains softmax probabilities for five candidate images with six possible classes. `tf.nn.top_k` is used to choose the three classes with the highest probability:\n",
    "\n",
    "```\n",
    "# (5, 6) array\n",
    "a = np.array([[ 0.24879643,  0.07032244,  0.12641572,  0.34763842,  0.07893497,\n",
    "         0.12789202],\n",
    "       [ 0.28086119,  0.27569815,  0.08594638,  0.0178669 ,  0.18063401,\n",
    "         0.15899337],\n",
    "       [ 0.26076848,  0.23664738,  0.08020603,  0.07001922,  0.1134371 ,\n",
    "         0.23892179],\n",
    "       [ 0.11943333,  0.29198961,  0.02605103,  0.26234032,  0.1351348 ,\n",
    "         0.16505091],\n",
    "       [ 0.09561176,  0.34396535,  0.0643941 ,  0.16240774,  0.24206137,\n",
    "         0.09155967]])\n",
    "```\n",
    "\n",
    "Running it through `sess.run(tf.nn.top_k(tf.constant(a), k=3))` produces:\n",
    "\n",
    "```\n",
    "TopKV2(values=array([[ 0.34763842,  0.24879643,  0.12789202],\n",
    "       [ 0.28086119,  0.27569815,  0.18063401],\n",
    "       [ 0.26076848,  0.23892179,  0.23664738],\n",
    "       [ 0.29198961,  0.26234032,  0.16505091],\n",
    "       [ 0.34396535,  0.24206137,  0.16240774]]), indices=array([[3, 0, 5],\n",
    "       [0, 1, 4],\n",
    "       [0, 5, 1],\n",
    "       [1, 3, 5],\n",
    "       [1, 4, 3]], dtype=int32))\n",
    "```\n",
    "\n",
    "Looking just at the first row we get `[ 0.34763842,  0.24879643,  0.12789202]`, you can confirm these are the 3 largest probabilities in `a`. You'll also notice `[3, 0, 5]` are the corresponding indices."
   ]
  },
  {
   "cell_type": "code",
   "execution_count": 108,
   "metadata": {
    "collapsed": true
   },
   "outputs": [],
   "source": [
    "### Print out the top five softmax probabilities for the predictions on the German traffic sign images found on the web. \n",
    "### Feel free to use as many code cells as needed."
   ]
  },
  {
   "cell_type": "markdown",
   "metadata": {},
   "source": [
    "### Project Writeup\n",
    "\n",
    "Once you have completed the code implementation, document your results in a project writeup using this [template](https://github.com/udacity/CarND-Traffic-Sign-Classifier-Project/blob/master/writeup_template.md) as a guide. The writeup can be in a markdown or pdf file. "
   ]
  },
  {
   "cell_type": "markdown",
   "metadata": {},
   "source": [
    "> **Note**: Once you have completed all of the code implementations and successfully answered each question above, you may finalize your work by exporting the iPython Notebook as an HTML document. You can do this by using the menu above and navigating to  \\n\",\n",
    "    \"**File -> Download as -> HTML (.html)**. Include the finished document along with this notebook as your submission."
   ]
  },
  {
   "cell_type": "markdown",
   "metadata": {},
   "source": [
    "---\n",
    "\n",
    "## Step 4 (Optional): Visualize the Neural Network's State with Test Images\n",
    "\n",
    " This Section is not required to complete but acts as an additional excersise for understaning the output of a neural network's weights. While neural networks can be a great learning device they are often referred to as a black box. We can understand what the weights of a neural network look like better by plotting their feature maps. After successfully training your neural network you can see what it's feature maps look like by plotting the output of the network's weight layers in response to a test stimuli image. From these plotted feature maps, it's possible to see what characteristics of an image the network finds interesting. For a sign, maybe the inner network feature maps react with high activation to the sign's boundary outline or to the contrast in the sign's painted symbol.\n",
    "\n",
    " Provided for you below is the function code that allows you to get the visualization output of any tensorflow weight layer you want. The inputs to the function should be a stimuli image, one used during training or a new one you provided, and then the tensorflow variable name that represents the layer's state during the training process, for instance if you wanted to see what the [LeNet lab's](https://classroom.udacity.com/nanodegrees/nd013/parts/fbf77062-5703-404e-b60c-95b78b2f3f9e/modules/6df7ae49-c61c-4bb2-a23e-6527e69209ec/lessons/601ae704-1035-4287-8b11-e2c2716217ad/concepts/d4aca031-508f-4e0b-b493-e7b706120f81) feature maps looked like for it's second convolutional layer you could enter conv2 as the tf_activation variable.\n",
    "\n",
    "For an example of what feature map outputs look like, check out NVIDIA's results in their paper [End-to-End Deep Learning for Self-Driving Cars](https://devblogs.nvidia.com/parallelforall/deep-learning-self-driving-cars/) in the section Visualization of internal CNN State. NVIDIA was able to show that their network's inner weights had high activations to road boundary lines by comparing feature maps from an image with a clear path to one without. Try experimenting with a similar test to show that your trained network's weights are looking for interesting features, whether it's looking at differences in feature maps from images with or without a sign, or even what feature maps look like in a trained network vs a completely untrained one on the same sign image.\n",
    "\n",
    "<figure>\n",
    " <img src=\"visualize_cnn.png\" width=\"380\" alt=\"Combined Image\" />\n",
    " <figcaption>\n",
    " <p></p> \n",
    " <p style=\"text-align: center;\"> Your output should look something like this (above)</p> \n",
    " </figcaption>\n",
    "</figure>\n",
    " <p></p> \n"
   ]
  },
  {
   "cell_type": "code",
   "execution_count": 109,
   "metadata": {
    "collapsed": true
   },
   "outputs": [],
   "source": [
    "### Visualize your network's feature maps here.\n",
    "### Feel free to use as many code cells as needed.\n",
    "\n",
    "# image_input: the test image being fed into the network to produce the feature maps\n",
    "# tf_activation: should be a tf variable name used during your training procedure that represents the calculated state of a specific weight layer\n",
    "# activation_min/max: can be used to view the activation contrast in more detail, by default matplot sets min and max to the actual min and max values of the output\n",
    "# plt_num: used to plot out multiple different weight feature map sets on the same block, just extend the plt number for each new feature map entry\n",
    "\n",
    "def outputFeatureMap(image_input, tf_activation, activation_min=-1, activation_max=-1 ,plt_num=1):\n",
    "    # Here make sure to preprocess your image_input in a way your network expects\n",
    "    # with size, normalization, ect if needed\n",
    "    # image_input =\n",
    "    # Note: x should be the same name as your network's tensorflow data placeholder variable\n",
    "    # If you get an error tf_activation is not defined it may be having trouble accessing the variable from inside a function\n",
    "    activation = tf_activation.eval(session=sess,feed_dict={x : image_input})\n",
    "    featuremaps = activation.shape[3]\n",
    "    plt.figure(plt_num, figsize=(15,15))\n",
    "    for featuremap in range(featuremaps):\n",
    "        plt.subplot(6,8, featuremap+1) # sets the number of feature maps to show on each row and column\n",
    "        plt.title('FeatureMap ' + str(featuremap)) # displays the feature map number\n",
    "        if activation_min != -1 & activation_max != -1:\n",
    "            plt.imshow(activation[0,:,:, featuremap], interpolation=\"nearest\", vmin =activation_min, vmax=activation_max, cmap=\"gray\")\n",
    "        elif activation_max != -1:\n",
    "            plt.imshow(activation[0,:,:, featuremap], interpolation=\"nearest\", vmax=activation_max, cmap=\"gray\")\n",
    "        elif activation_min !=-1:\n",
    "            plt.imshow(activation[0,:,:, featuremap], interpolation=\"nearest\", vmin=activation_min, cmap=\"gray\")\n",
    "        else:\n",
    "            plt.imshow(activation[0,:,:, featuremap], interpolation=\"nearest\", cmap=\"gray\")"
   ]
  },
  {
   "cell_type": "code",
   "execution_count": null,
   "metadata": {
    "collapsed": true
   },
   "outputs": [],
   "source": []
  }
 ],
 "metadata": {
  "anaconda-cloud": {},
  "kernelspec": {
   "display_name": "Python 3",
   "language": "python",
   "name": "python3"
  },
  "language_info": {
   "codemirror_mode": {
    "name": "ipython",
    "version": 3
   },
   "file_extension": ".py",
   "mimetype": "text/x-python",
   "name": "python",
   "nbconvert_exporter": "python",
   "pygments_lexer": "ipython3",
   "version": "3.6.3"
  },
  "widgets": {
   "state": {},
   "version": "1.1.2"
  }
 },
 "nbformat": 4,
 "nbformat_minor": 1
}
